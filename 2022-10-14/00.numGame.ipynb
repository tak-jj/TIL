{
 "cells": [
  {
   "cell_type": "markdown",
   "metadata": {},
   "source": [
    "# **Num Game**"
   ]
  },
  {
   "cell_type": "code",
   "execution_count": 1,
   "metadata": {},
   "outputs": [
    {
     "name": "stdout",
     "output_type": "stream",
     "text": [
      "17\n"
     ]
    }
   ],
   "source": [
    "import random #import package\n",
    "\n",
    "randomNumber = random.randint(1,100) #make random int between 1 to 100\n",
    "# print(randomNumber)"
   ]
  },
  {
   "cell_type": "code",
   "execution_count": 4,
   "metadata": {},
   "outputs": [
    {
     "name": "stdout",
     "output_type": "stream",
     "text": [
      "Please input number\n",
      "Please input number\n",
      "Up!\n",
      "Congratuation! tried 4 times\n"
     ]
    }
   ],
   "source": [
    "gameCount = 1\n",
    "\n",
    "while True:\n",
    "    try:\n",
    "        myNumber = int(input('guess number between 1-100')) #because type of inputted data is string, use int() change data type\n",
    "\n",
    "        if myNumber > randomNumber:\n",
    "            print('Down!')\n",
    "        elif myNumber < randomNumber:\n",
    "            print('Up!')\n",
    "        else:\n",
    "            print(f'Congratuation! tried {gameCount} times')\n",
    "            break\n",
    "    except:\n",
    "        print('Please input number')\n",
    "    \n",
    "    gameCount += 1"
   ]
  },
  {
   "cell_type": "code",
   "execution_count": null,
   "metadata": {},
   "outputs": [],
   "source": []
  }
 ],
 "metadata": {
  "kernelspec": {
   "display_name": "Python 3.10.8 64-bit (microsoft store)",
   "language": "python",
   "name": "python3"
  },
  "language_info": {
   "codemirror_mode": {
    "name": "ipython",
    "version": 3
   },
   "file_extension": ".py",
   "mimetype": "text/x-python",
   "name": "python",
   "nbconvert_exporter": "python",
   "pygments_lexer": "ipython3",
   "version": "3.10.8"
  },
  "orig_nbformat": 4,
  "vscode": {
   "interpreter": {
    "hash": "efe9372a1efa3f8f94af046a62a2012c6615b7b453923c0d7d1686f1c7792c16"
   }
  }
 },
 "nbformat": 4,
 "nbformat_minor": 2
}
