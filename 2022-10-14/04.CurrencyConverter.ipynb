{
 "cells": [
  {
   "cell_type": "markdown",
   "metadata": {},
   "source": [
    "# **Currency Converter**"
   ]
  },
  {
   "cell_type": "code",
   "execution_count": 1,
   "metadata": {},
   "outputs": [
    {
     "data": {
      "text/plain": [
       "1412.1142052880266"
      ]
     },
     "execution_count": 1,
     "metadata": {},
     "output_type": "execute_result"
    }
   ],
   "source": [
    "# Use currency converter package\n",
    "\n",
    "from currency_converter import CurrencyConverter\n",
    "\n",
    "cc = CurrencyConverter('http://www.ecb.europa.eu/stats/eurofxref/eurofxref.zip')\n",
    "\n",
    "(cc.convert(1,'USD','KRW'))"
   ]
  },
  {
   "cell_type": "code",
   "execution_count": 11,
   "metadata": {},
   "outputs": [
    {
     "ename": "AttributeError",
     "evalue": "'NoneType' object has no attribute 'text'",
     "output_type": "error",
     "traceback": [
      "\u001b[1;31m---------------------------------------------------------------------------\u001b[0m",
      "\u001b[1;31mAttributeError\u001b[0m                            Traceback (most recent call last)",
      "Cell \u001b[1;32mIn [11], line 17\u001b[0m\n\u001b[0;32m     14\u001b[0m     containers \u001b[39m=\u001b[39m content\u001b[39m.\u001b[39mfind(\u001b[39m'\u001b[39m\u001b[39mspan\u001b[39m\u001b[39m'\u001b[39m,{\u001b[39m'\u001b[39m\u001b[39mdata-test\u001b[39m\u001b[39m'\u001b[39m:\u001b[39m'\u001b[39m\u001b[39minstrument-price-last\u001b[39m\u001b[39m'\u001b[39m})\n\u001b[0;32m     15\u001b[0m     \u001b[39mprint\u001b[39m(containers\u001b[39m.\u001b[39mtext)\n\u001b[1;32m---> 17\u001b[0m get_exchange_rate(\u001b[39m'\u001b[39;49m\u001b[39musd\u001b[39;49m\u001b[39m'\u001b[39;49m,\u001b[39m'\u001b[39;49m\u001b[39mkrw\u001b[39;49m\u001b[39m'\u001b[39;49m)\n\u001b[0;32m     19\u001b[0m \u001b[39m#\u001b[39;00m\n",
      "Cell \u001b[1;32mIn [11], line 15\u001b[0m, in \u001b[0;36mget_exchange_rate\u001b[1;34m(target1, target2)\u001b[0m\n\u001b[0;32m     13\u001b[0m content \u001b[39m=\u001b[39m BeautifulSoup(response\u001b[39m.\u001b[39mcontent, \u001b[39m'\u001b[39m\u001b[39mhtml.parser\u001b[39m\u001b[39m'\u001b[39m)\n\u001b[0;32m     14\u001b[0m containers \u001b[39m=\u001b[39m content\u001b[39m.\u001b[39mfind(\u001b[39m'\u001b[39m\u001b[39mspan\u001b[39m\u001b[39m'\u001b[39m,{\u001b[39m'\u001b[39m\u001b[39mdata-test\u001b[39m\u001b[39m'\u001b[39m:\u001b[39m'\u001b[39m\u001b[39minstrument-price-last\u001b[39m\u001b[39m'\u001b[39m})\n\u001b[1;32m---> 15\u001b[0m \u001b[39mprint\u001b[39m(containers\u001b[39m.\u001b[39;49mtext)\n",
      "\u001b[1;31mAttributeError\u001b[0m: 'NoneType' object has no attribute 'text'"
     ]
    }
   ],
   "source": [
    "# Web crawling\n",
    "# take HTML page and parse HTML/CSS, get information needed\n",
    "\n",
    "import requests #package that can get source from web\n",
    "from bs4 import BeautifulSoup #web crawling package\n",
    "\n",
    "def get_exchange_rate(target1, target2):\n",
    "    headers = {\n",
    "        'User-Agent': 'Mozilla/5.0',\n",
    "        'Content-Type': 'text/html; charset=utf-8'\n",
    "    } #to make crawler look like browser\n",
    "\n",
    "    response = requests.get('https://kr.investing.com/currencies/{}-{}'.format(target1,target2), headers=headers)\n",
    "    content = BeautifulSoup(response.content, 'html.parser')\n",
    "    containers = content.find('span',{'data-test':'instrument-price-last'})\n",
    "    print(containers.text)\n",
    "\n",
    "get_exchange_rate('usd','krw')\n",
    "\n",
    "#this method can't use now. Site blocked crawling. just see process of web crawling"
   ]
  },
  {
   "cell_type": "markdown",
   "metadata": {},
   "source": []
  }
 ],
 "metadata": {
  "kernelspec": {
   "display_name": "Python 3.10.8 64-bit (microsoft store)",
   "language": "python",
   "name": "python3"
  },
  "language_info": {
   "codemirror_mode": {
    "name": "ipython",
    "version": 3
   },
   "file_extension": ".py",
   "mimetype": "text/x-python",
   "name": "python",
   "nbconvert_exporter": "python",
   "pygments_lexer": "ipython3",
   "version": "3.10.8"
  },
  "orig_nbformat": 4,
  "vscode": {
   "interpreter": {
    "hash": "efe9372a1efa3f8f94af046a62a2012c6615b7b453923c0d7d1686f1c7792c16"
   }
  }
 },
 "nbformat": 4,
 "nbformat_minor": 2
}
