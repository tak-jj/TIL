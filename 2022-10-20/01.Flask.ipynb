{
 "cells": [
  {
   "cell_type": "markdown",
   "metadata": {},
   "source": [
    "# **Flask**"
   ]
  },
  {
   "cell_type": "code",
   "execution_count": 1,
   "metadata": {},
   "outputs": [],
   "source": [
    "from flask import Flask\n",
    "import sys"
   ]
  },
  {
   "cell_type": "code",
   "execution_count": 3,
   "metadata": {},
   "outputs": [],
   "source": [
    "app = Flask(__name__)\n",
    "\n",
    "@app.route('/')\n",
    "def hello():\n",
    "    return 'Hello Flask'\n",
    "\n",
    "@app.route('/map')\n",
    "def map():\n",
    "    return 'Welcome to map'\n",
    "\n",
    "@app.route('/1')\n",
    "def One():\n",
    "    return '{msg:\"1 Page\"}'\n",
    "\n",
    "@app.route('/2')\n",
    "def Two():\n",
    "    return '{msg::2 Page\"}'"
   ]
  },
  {
   "cell_type": "code",
   "execution_count": 4,
   "metadata": {},
   "outputs": [],
   "source": [
    "# if __name__ == '__main__':\n",
    "#     app.run(host='0.0.0.0', port=int(sys.argv[1]))"
   ]
  },
  {
   "cell_type": "code",
   "execution_count": null,
   "metadata": {},
   "outputs": [],
   "source": []
  }
 ],
 "metadata": {
  "kernelspec": {
   "display_name": "Python 3.10.8 64-bit (microsoft store)",
   "language": "python",
   "name": "python3"
  },
  "language_info": {
   "codemirror_mode": {
    "name": "ipython",
    "version": 3
   },
   "file_extension": ".py",
   "mimetype": "text/x-python",
   "name": "python",
   "nbconvert_exporter": "python",
   "pygments_lexer": "ipython3",
   "version": "3.10.8"
  },
  "orig_nbformat": 4,
  "vscode": {
   "interpreter": {
    "hash": "efe9372a1efa3f8f94af046a62a2012c6615b7b453923c0d7d1686f1c7792c16"
   }
  }
 },
 "nbformat": 4,
 "nbformat_minor": 2
}
