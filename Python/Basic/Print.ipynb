{
 "cells": [
  {
   "cell_type": "markdown",
   "metadata": {},
   "source": [
    "# **Print**"
   ]
  },
  {
   "cell_type": "code",
   "execution_count": 5,
   "metadata": {},
   "outputs": [
    {
     "name": "stdout",
     "output_type": "stream",
     "text": [
      "Hello world\n"
     ]
    }
   ],
   "source": [
    "# Print\n",
    "print('Hello world') "
   ]
  },
  {
   "cell_type": "code",
   "execution_count": 6,
   "metadata": {},
   "outputs": [
    {
     "name": "stdout",
     "output_type": "stream",
     "text": [
      "Hello 'world'\n",
      "Hello \"world\"\n"
     ]
    }
   ],
   "source": [
    "# '' or \"\" in string\n",
    "print(\"Hello 'world'\")\n",
    "print('Hello \"world\"')"
   ]
  },
  {
   "cell_type": "code",
   "execution_count": 7,
   "metadata": {},
   "outputs": [
    {
     "name": "stdout",
     "output_type": "stream",
     "text": [
      "Hello world\n",
      "Helloworld\n"
     ]
    }
   ],
   "source": [
    "# Print multiple strings\n",
    "print('Hello','world') #input space between words\n",
    "print('Hello'+'world')"
   ]
  },
  {
   "cell_type": "code",
   "execution_count": 9,
   "metadata": {},
   "outputs": [
    {
     "name": "stdout",
     "output_type": "stream",
     "text": [
      "\n",
      "All that is gold does not glitter,\n",
      "Not all those who wander are lost\n",
      "\n",
      "\n",
      "All that is gold does not glitter,\n",
      "Not all those who wander are lost\n",
      "\n"
     ]
    }
   ],
   "source": [
    "# Print paragraph\n",
    "print('''\n",
    "All that is gold does not glitter,\n",
    "Not all those who wander are lost\n",
    "''')\n",
    "print(\"\"\"\n",
    "All that is gold does not glitter,\n",
    "Not all those who wander are lost\n",
    "\"\"\")"
   ]
  },
  {
   "cell_type": "code",
   "execution_count": 12,
   "metadata": {},
   "outputs": [
    {
     "name": "stdout",
     "output_type": "stream",
     "text": [
      "Hello\n",
      "nice to meet you :)\n"
     ]
    }
   ],
   "source": [
    "# Line break\n",
    "print('Hello\\nnice to meet you :)')"
   ]
  },
  {
   "cell_type": "code",
   "execution_count": 13,
   "metadata": {},
   "outputs": [
    {
     "name": "stdout",
     "output_type": "stream",
     "text": [
      "a=123, b=hello\n",
      "a=123, b=hello\n",
      "a=123, b=hello\n"
     ]
    }
   ],
   "source": [
    "# Get variable\n",
    "a = 123\n",
    "b = 'hello'\n",
    "\n",
    "print('a={}, b={}'.format(a,b))\n",
    "print('a={x}, b={y}'.format(x=a,y=b))\n",
    "print(f'a={a}, b={b}')"
   ]
  },
  {
   "cell_type": "code",
   "execution_count": null,
   "metadata": {},
   "outputs": [],
   "source": []
  }
 ],
 "metadata": {
  "kernelspec": {
   "display_name": "Python 3.10.8 64-bit (microsoft store)",
   "language": "python",
   "name": "python3"
  },
  "language_info": {
   "codemirror_mode": {
    "name": "ipython",
    "version": 3
   },
   "file_extension": ".py",
   "mimetype": "text/x-python",
   "name": "python",
   "nbconvert_exporter": "python",
   "pygments_lexer": "ipython3",
   "version": "3.10.8"
  },
  "orig_nbformat": 4,
  "vscode": {
   "interpreter": {
    "hash": "efe9372a1efa3f8f94af046a62a2012c6615b7b453923c0d7d1686f1c7792c16"
   }
  }
 },
 "nbformat": 4,
 "nbformat_minor": 2
}
