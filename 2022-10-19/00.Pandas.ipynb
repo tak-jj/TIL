{
 "cells": [
  {
   "cell_type": "markdown",
   "metadata": {},
   "source": [
    "# **Pandas**"
   ]
  },
  {
   "cell_type": "markdown",
   "metadata": {},
   "source": [
    "## *Series and DataFrame*"
   ]
  },
  {
   "cell_type": "code",
   "execution_count": 2,
   "metadata": {},
   "outputs": [],
   "source": [
    "from pandas import Series, DataFrame"
   ]
  },
  {
   "cell_type": "code",
   "execution_count": 3,
   "metadata": {},
   "outputs": [
    {
     "name": "stdout",
     "output_type": "stream",
     "text": [
      "apple     2500\n",
      "banana    3800\n",
      "peer      1200\n",
      "cherry     600\n",
      "dtype: int64\n"
     ]
    }
   ],
   "source": [
    "# Series object\n",
    "fruit = Series([2500, 3800, 1200, 600], index=['apple','banana','peer','cherry'])\n",
    "print(fruit)"
   ]
  },
  {
   "cell_type": "code",
   "execution_count": 4,
   "metadata": {},
   "outputs": [
    {
     "name": "stdout",
     "output_type": "stream",
     "text": [
      "[2500 3800 1200  600]\n",
      "Index(['apple', 'banana', 'peer', 'cherry'], dtype='object')\n"
     ]
    }
   ],
   "source": [
    "print(fruit.values)\n",
    "print(fruit.index) #Series has value and index"
   ]
  },
  {
   "cell_type": "code",
   "execution_count": 5,
   "metadata": {},
   "outputs": [
    {
     "name": "stdout",
     "output_type": "stream",
     "text": [
      "apple     2500\n",
      "banana    3800\n",
      "peer      1200\n",
      "cherry     600\n",
      "dtype: int64\n"
     ]
    }
   ],
   "source": [
    "# Change dict to Series\n",
    "fruitDict = {'apple':2500, 'banana':3800, 'peer':1200, 'cherry':600}\n",
    "fruit = Series(fruitDict)\n",
    "\n",
    "print(fruit)"
   ]
  },
  {
   "cell_type": "code",
   "execution_count": 6,
   "metadata": {},
   "outputs": [
    {
     "name": "stdout",
     "output_type": "stream",
     "text": [
      "<class 'dict'>\n",
      "<class 'pandas.core.series.Series'>\n"
     ]
    }
   ],
   "source": [
    "print(type(fruitDict))\n",
    "print(type(fruit))"
   ]
  },
  {
   "cell_type": "code",
   "execution_count": 7,
   "metadata": {},
   "outputs": [
    {
     "name": "stdout",
     "output_type": "stream",
     "text": [
      "fruitName\n",
      "apple     2500\n",
      "banana    3800\n",
      "peer      1200\n",
      "cherry     600\n",
      "Name: fruitPrice, dtype: int64\n"
     ]
    }
   ],
   "source": [
    "# Set name of Series and columns\n",
    "fruit.name = 'fruitPrice'\n",
    "fruit.index.name = 'fruitName'\n",
    "\n",
    "print(fruit)"
   ]
  },
  {
   "cell_type": "code",
   "execution_count": 8,
   "metadata": {},
   "outputs": [
    {
     "name": "stdout",
     "output_type": "stream",
     "text": [
      "fruitName\n",
      "apple     2500\n",
      "peer      1200\n",
      "cherry     600\n",
      "Name: fruitPrice, dtype: int64\n"
     ]
    }
   ],
   "source": [
    "# Delete element in series\n",
    "noBanana = fruit.drop('banana')\n",
    "print(noBanana)"
   ]
  },
  {
   "cell_type": "code",
   "execution_count": 9,
   "metadata": {},
   "outputs": [
    {
     "name": "stdout",
     "output_type": "stream",
     "text": [
      "  fruitName  fruitPrice  num\n",
      "0     apple        2500   10\n",
      "1    banana        3800    5\n",
      "2      peer        1200    8\n",
      "3    cherry         600    3\n"
     ]
    }
   ],
   "source": [
    "# DataFrame\n",
    "fruitData = {'fruitName':['apple', 'banana', 'peer', 'cherry'], 'fruitPrice':[2500,3800,1200,600], 'num':[10,5,8,3]}\n",
    "\n",
    "fruitFrame = DataFrame(fruitData)\n",
    "print(fruitFrame)"
   ]
  },
  {
   "cell_type": "code",
   "execution_count": 10,
   "metadata": {},
   "outputs": [
    {
     "name": "stdout",
     "output_type": "stream",
     "text": [
      "   fruitPrice  num fruitName\n",
      "0        2500   10     apple\n",
      "1        3800    5    banana\n",
      "2        1200    8      peer\n",
      "3         600    3    cherry\n"
     ]
    }
   ],
   "source": [
    "# Can change order of colums\n",
    "fruitFrame = DataFrame(fruitData, columns=['fruitPrice','num','fruitName'])\n",
    "print(fruitFrame)"
   ]
  },
  {
   "cell_type": "code",
   "execution_count": 11,
   "metadata": {},
   "outputs": [
    {
     "name": "stdout",
     "output_type": "stream",
     "text": [
      "['apple', 'banana', 'peer', 'cherry']\n",
      "        fruitPrice  num\n",
      "apple         2500   10\n",
      "banana        3800    5\n",
      "peer          1200    8\n",
      "cherry         600    3\n"
     ]
    }
   ],
   "source": [
    "# Change index\n",
    "fruitName = fruitData['fruitName']\n",
    "print(fruitName)\n",
    "\n",
    "fruitFrame = DataFrame(fruitData, index=fruitName, columns=['fruitPrice','num'])\n",
    "print(fruitFrame)"
   ]
  },
  {
   "cell_type": "code",
   "execution_count": 12,
   "metadata": {},
   "outputs": [
    {
     "name": "stdout",
     "output_type": "stream",
     "text": [
      "apple     2500\n",
      "banana    3800\n",
      "peer      1200\n",
      "cherry     600\n",
      "Name: fruitPrice, dtype: int64\n",
      "apple     2500\n",
      "banana    3800\n",
      "peer      1200\n",
      "cherry     600\n",
      "Name: fruitPrice, dtype: int64\n"
     ]
    }
   ],
   "source": [
    "# Extract data using column name\n",
    "print(fruitFrame['fruitPrice']) #data side approach\n",
    "print(fruitFrame.fruitPrice) #object side approach, object.property.method()"
   ]
  },
  {
   "cell_type": "code",
   "execution_count": 13,
   "metadata": {},
   "outputs": [
    {
     "name": "stdout",
     "output_type": "stream",
     "text": [
      "        fruitPrice  num  year\n",
      "apple         2500   10  2022\n",
      "banana        3800    5  2022\n",
      "peer          1200    8  2022\n",
      "cherry         600    3  2022\n"
     ]
    }
   ],
   "source": [
    "# Add column\n",
    "fruitFrame['year'] = 2022\n",
    "\n",
    "print(fruitFrame)"
   ]
  },
  {
   "cell_type": "code",
   "execution_count": 14,
   "metadata": {},
   "outputs": [
    {
     "name": "stdout",
     "output_type": "stream",
     "text": [
      "apple     4\n",
      "banana    2\n",
      "cherry    1\n",
      "dtype: int64\n",
      "        fruitPrice  num  year  Stock\n",
      "apple         2500   10  2022    4.0\n",
      "banana        3800    5  2022    2.0\n",
      "peer          1200    8  2022    NaN\n",
      "cherry         600    3  2022    1.0\n"
     ]
    }
   ],
   "source": [
    "# Add Series to DataFrame\n",
    "\n",
    "new_series = Series([4,2,1],index=['apple','banana','cherry'])\n",
    "\n",
    "fruitFrame['Stock'] = new_series\n",
    "\n",
    "print(new_series)\n",
    "print(fruitFrame) #find same index and added"
   ]
  },
  {
   "cell_type": "code",
   "execution_count": 15,
   "metadata": {},
   "outputs": [
    {
     "name": "stdout",
     "output_type": "stream",
     "text": [
      "        fruitPrice  num  year  Stock\n",
      "banana        3800    5  2022    2.0\n",
      "peer          1200    8  2022    NaN\n"
     ]
    }
   ],
   "source": [
    "# Delete element in dataframe\n",
    "newFrame = fruitFrame.drop(['apple', 'cherry'])\n",
    "print(newFrame)"
   ]
  },
  {
   "cell_type": "code",
   "execution_count": 16,
   "metadata": {},
   "outputs": [
    {
     "name": "stdout",
     "output_type": "stream",
     "text": [
      "        fruitPrice  year  Stock\n",
      "apple         2500  2022    4.0\n",
      "banana        3800  2022    2.0\n",
      "peer          1200  2022    NaN\n",
      "cherry         600  2022    1.0\n"
     ]
    }
   ],
   "source": [
    "newFrame = fruitFrame.drop(['num'], axis=1) #change axis, can delete column\n",
    "print(newFrame)"
   ]
  },
  {
   "cell_type": "code",
   "execution_count": 17,
   "metadata": {},
   "outputs": [
    {
     "name": "stdout",
     "output_type": "stream",
     "text": [
      "apple     2500\n",
      "banana    3800\n",
      "peer      1200\n",
      "cherry     600\n",
      "Name: fruitPrice, dtype: int64\n",
      "        num  year  Stock\n",
      "apple    10  2022    4.0\n",
      "banana    5  2022    2.0\n",
      "peer      8  2022    NaN\n",
      "cherry    3  2022    1.0\n"
     ]
    }
   ],
   "source": [
    "# Pop\n",
    "popSeries = fruitFrame.pop('fruitPrice')\n",
    "\n",
    "print(popSeries)\n",
    "print(fruitFrame)"
   ]
  },
  {
   "cell_type": "code",
   "execution_count": 18,
   "metadata": {},
   "outputs": [
    {
     "name": "stdout",
     "output_type": "stream",
     "text": [
      "fruitName\n",
      "apple     2500\n",
      "banana    3800\n",
      "peer      1200\n",
      "cherry     600\n",
      "Name: fruitPrice, dtype: int64\n",
      "fruitName\n",
      "apple     2500\n",
      "banana    3800\n",
      "Name: fruitPrice, dtype: int64\n"
     ]
    }
   ],
   "source": [
    "# Slice\n",
    "print(fruit)\n",
    "\n",
    "print(fruit[:'banana']) #little different from array slice, include the end\n"
   ]
  },
  {
   "cell_type": "code",
   "execution_count": 19,
   "metadata": {},
   "outputs": [
    {
     "name": "stdout",
     "output_type": "stream",
     "text": [
      "apple      5\n",
      "banana     9\n",
      "peer      10\n",
      "cherry     3\n",
      "dtype: int64\n",
      "apple      3\n",
      "orange     2\n",
      "banana     9\n",
      "cherry     5\n",
      "mango     10\n",
      "dtype: int64\n"
     ]
    }
   ],
   "source": [
    "# Basic calculation of series object\n",
    "\n",
    "fruit1 = Series([5,9,10,3], index=['apple','banana','peer','cherry'])\n",
    "fruit2 = Series([3,2,9,5,10], index=['apple','orange','banana','cherry','mango'])\n",
    "\n",
    "print(fruit1)\n",
    "print(fruit2)"
   ]
  },
  {
   "cell_type": "code",
   "execution_count": 20,
   "metadata": {},
   "outputs": [
    {
     "name": "stdout",
     "output_type": "stream",
     "text": [
      "apple      8.0\n",
      "banana    18.0\n",
      "cherry     8.0\n",
      "mango      NaN\n",
      "orange     NaN\n",
      "peer       NaN\n",
      "dtype: float64\n"
     ]
    }
   ],
   "source": [
    "new_fruit = fruit1 + fruit2\n",
    "\n",
    "print(new_fruit) #just add values share same index, unless return null\n",
    "\n",
    "# Same to substract, multiply, divide"
   ]
  },
  {
   "cell_type": "code",
   "execution_count": 21,
   "metadata": {},
   "outputs": [
    {
     "name": "stdout",
     "output_type": "stream",
     "text": [
      "        Ohio  Texas\n",
      "apple      4      0\n",
      "banana     8      1\n",
      "cherry     3      2\n",
      "peer       5      3\n",
      "        Ohio  Colorado\n",
      "apple      3         5\n",
      "orange     0         4\n",
      "banana     2         3\n",
      "cherry     1         6\n",
      "mango      7         0\n"
     ]
    }
   ],
   "source": [
    "# Basic calculation of dataframe object\n",
    "\n",
    "fruitData1 = {'Ohio':[4,8,3,5], 'Texas':[0,1,2,3]}\n",
    "fruitData2 = {'Ohio':[3,0,2,1,7], 'Colorado':[5,4,3,6,0]}\n",
    "\n",
    "fruitFrame1 = DataFrame(fruitData1, columns=['Ohio','Texas'], index=['apple','banana','cherry','peer'])\n",
    "fruitFrame2 = DataFrame(fruitData2, columns=['Ohio','Colorado'], index=['apple','orange','banana','cherry','mango'])\n",
    "\n",
    "print(fruitFrame1)\n",
    "print(fruitFrame2)"
   ]
  },
  {
   "cell_type": "code",
   "execution_count": 22,
   "metadata": {},
   "outputs": [
    {
     "name": "stdout",
     "output_type": "stream",
     "text": [
      "        Colorado  Ohio  Texas\n",
      "apple        NaN   7.0    NaN\n",
      "banana       NaN  10.0    NaN\n",
      "cherry       NaN   4.0    NaN\n",
      "mango        NaN   NaN    NaN\n",
      "orange       NaN   NaN    NaN\n",
      "peer         NaN   NaN    NaN\n"
     ]
    }
   ],
   "source": [
    "newFrame = fruitFrame1 + fruitFrame2\n",
    "\n",
    "print(newFrame) #just add values share same index and column, unless return null"
   ]
  },
  {
   "cell_type": "code",
   "execution_count": 23,
   "metadata": {},
   "outputs": [
    {
     "name": "stdout",
     "output_type": "stream",
     "text": [
      "fruitName\n",
      "apple     2500\n",
      "banana    3800\n",
      "peer      1200\n",
      "cherry     600\n",
      "Name: fruitPrice, dtype: int64\n"
     ]
    }
   ],
   "source": [
    "# Sort data\n",
    "print(fruit) #Series"
   ]
  },
  {
   "cell_type": "code",
   "execution_count": 24,
   "metadata": {},
   "outputs": [
    {
     "name": "stdout",
     "output_type": "stream",
     "text": [
      "fruitName\n",
      "cherry     600\n",
      "peer      1200\n",
      "apple     2500\n",
      "banana    3800\n",
      "Name: fruitPrice, dtype: int64\n"
     ]
    }
   ],
   "source": [
    "print(fruit.sort_values()) #ascending is default"
   ]
  },
  {
   "cell_type": "code",
   "execution_count": 25,
   "metadata": {},
   "outputs": [
    {
     "name": "stdout",
     "output_type": "stream",
     "text": [
      "fruitName\n",
      "banana    3800\n",
      "apple     2500\n",
      "peer      1200\n",
      "cherry     600\n",
      "Name: fruitPrice, dtype: int64\n"
     ]
    }
   ],
   "source": [
    "print(fruit.sort_values(ascending=False)) #descending"
   ]
  },
  {
   "cell_type": "code",
   "execution_count": 26,
   "metadata": {},
   "outputs": [
    {
     "name": "stdout",
     "output_type": "stream",
     "text": [
      "        num  fruitPrice\n",
      "apple    10        2500\n",
      "banana    5        3800\n",
      "peer      8        1200\n",
      "cherry    3         600\n"
     ]
    }
   ],
   "source": [
    "fruitName = fruitData['fruitName']\n",
    "fruitFrame = DataFrame(fruitData, index=fruitName, columns=['num','fruitPrice'])\n",
    "\n",
    "print(fruitFrame) #DataFrame"
   ]
  },
  {
   "cell_type": "code",
   "execution_count": 27,
   "metadata": {},
   "outputs": [
    {
     "name": "stdout",
     "output_type": "stream",
     "text": [
      "        num  fruitPrice\n",
      "apple    10        2500\n",
      "banana    5        3800\n",
      "cherry    3         600\n",
      "peer      8        1200\n"
     ]
    }
   ],
   "source": [
    "print(fruitFrame.sort_index()) #sort by index, ascending is default"
   ]
  },
  {
   "cell_type": "code",
   "execution_count": 28,
   "metadata": {},
   "outputs": [
    {
     "name": "stdout",
     "output_type": "stream",
     "text": [
      "        num  fruitPrice\n",
      "peer      8        1200\n",
      "cherry    3         600\n",
      "banana    5        3800\n",
      "apple    10        2500\n"
     ]
    }
   ],
   "source": [
    "print(fruitFrame.sort_index(ascending=False)) #descending"
   ]
  },
  {
   "cell_type": "code",
   "execution_count": 29,
   "metadata": {},
   "outputs": [
    {
     "name": "stdout",
     "output_type": "stream",
     "text": [
      "        fruitPrice  num\n",
      "apple         2500   10\n",
      "banana        3800    5\n",
      "peer          1200    8\n",
      "cherry         600    3\n"
     ]
    }
   ],
   "source": [
    "print(fruitFrame.sort_index(axis=1)) #use axis can sort columns"
   ]
  },
  {
   "cell_type": "code",
   "execution_count": 30,
   "metadata": {},
   "outputs": [
    {
     "name": "stdout",
     "output_type": "stream",
     "text": [
      "        num  fruitPrice\n",
      "cherry    3         600\n",
      "peer      8        1200\n",
      "apple    10        2500\n",
      "banana    5        3800\n"
     ]
    }
   ],
   "source": [
    "print(fruitFrame.sort_values(by=['fruitPrice','num'])) #sort by first column, if first value is same, use second"
   ]
  },
  {
   "cell_type": "markdown",
   "metadata": {},
   "source": [
    "## *Basic statistical analysis use Pandas*"
   ]
  },
  {
   "cell_type": "code",
   "execution_count": 31,
   "metadata": {},
   "outputs": [
    {
     "data": {
      "text/plain": [
       "pandas.core.frame.DataFrame"
      ]
     },
     "execution_count": 31,
     "metadata": {},
     "output_type": "execute_result"
    }
   ],
   "source": [
    "import pandas as pd\n",
    "\n",
    "german = pd.read_csv('http://freakonometrics.free.fr/german_credit.csv') #get data use url\n",
    "\n",
    "type(german) #check datatype"
   ]
  },
  {
   "cell_type": "code",
   "execution_count": 32,
   "metadata": {},
   "outputs": [
    {
     "data": {
      "text/plain": [
       "array(['Creditability', 'Account Balance', 'Duration of Credit (month)',\n",
       "       'Payment Status of Previous Credit', 'Purpose', 'Credit Amount',\n",
       "       'Value Savings/Stocks', 'Length of current employment',\n",
       "       'Instalment per cent', 'Sex & Marital Status', 'Guarantors',\n",
       "       'Duration in Current address', 'Most valuable available asset',\n",
       "       'Age (years)', 'Concurrent Credits', 'Type of apartment',\n",
       "       'No of Credits at this Bank', 'Occupation', 'No of dependents',\n",
       "       'Telephone', 'Foreign Worker'], dtype=object)"
      ]
     },
     "execution_count": 32,
     "metadata": {},
     "output_type": "execute_result"
    }
   ],
   "source": [
    "german.columns.values #see columns"
   ]
  },
  {
   "cell_type": "code",
   "execution_count": 33,
   "metadata": {},
   "outputs": [
    {
     "name": "stdout",
     "output_type": "stream",
     "text": [
      "     Creditability  Duration of Credit (month)  Purpose  Credit Amount\n",
      "0                1                          18        2           1049\n",
      "1                1                           9        0           2799\n",
      "2                1                          12        9            841\n",
      "3                1                          12        0           2122\n",
      "4                1                          12        0           2171\n",
      "..             ...                         ...      ...            ...\n",
      "995              0                          24        3           1987\n",
      "996              0                          24        0           2303\n",
      "997              0                          21        0          12680\n",
      "998              0                          12        3           6468\n",
      "999              0                          30        2           6350\n",
      "\n",
      "[1000 rows x 4 columns]\n"
     ]
    }
   ],
   "source": [
    "german_sample = german[['Creditability','Duration of Credit (month)','Purpose','Credit Amount']] #get columns needed\n",
    "\n",
    "print(german_sample)"
   ]
  },
  {
   "cell_type": "code",
   "execution_count": 34,
   "metadata": {},
   "outputs": [
    {
     "data": {
      "text/html": [
       "<div>\n",
       "<style scoped>\n",
       "    .dataframe tbody tr th:only-of-type {\n",
       "        vertical-align: middle;\n",
       "    }\n",
       "\n",
       "    .dataframe tbody tr th {\n",
       "        vertical-align: top;\n",
       "    }\n",
       "\n",
       "    .dataframe thead th {\n",
       "        text-align: right;\n",
       "    }\n",
       "</style>\n",
       "<table border=\"1\" class=\"dataframe\">\n",
       "  <thead>\n",
       "    <tr style=\"text-align: right;\">\n",
       "      <th></th>\n",
       "      <th>Creditability</th>\n",
       "      <th>Duration of Credit (month)</th>\n",
       "      <th>Purpose</th>\n",
       "      <th>Credit Amount</th>\n",
       "    </tr>\n",
       "  </thead>\n",
       "  <tbody>\n",
       "    <tr>\n",
       "      <th>0</th>\n",
       "      <td>1</td>\n",
       "      <td>18</td>\n",
       "      <td>2</td>\n",
       "      <td>1049</td>\n",
       "    </tr>\n",
       "    <tr>\n",
       "      <th>1</th>\n",
       "      <td>1</td>\n",
       "      <td>9</td>\n",
       "      <td>0</td>\n",
       "      <td>2799</td>\n",
       "    </tr>\n",
       "    <tr>\n",
       "      <th>2</th>\n",
       "      <td>1</td>\n",
       "      <td>12</td>\n",
       "      <td>9</td>\n",
       "      <td>841</td>\n",
       "    </tr>\n",
       "    <tr>\n",
       "      <th>3</th>\n",
       "      <td>1</td>\n",
       "      <td>12</td>\n",
       "      <td>0</td>\n",
       "      <td>2122</td>\n",
       "    </tr>\n",
       "    <tr>\n",
       "      <th>4</th>\n",
       "      <td>1</td>\n",
       "      <td>12</td>\n",
       "      <td>0</td>\n",
       "      <td>2171</td>\n",
       "    </tr>\n",
       "  </tbody>\n",
       "</table>\n",
       "</div>"
      ],
      "text/plain": [
       "   Creditability  Duration of Credit (month)  Purpose  Credit Amount\n",
       "0              1                          18        2           1049\n",
       "1              1                           9        0           2799\n",
       "2              1                          12        9            841\n",
       "3              1                          12        0           2122\n",
       "4              1                          12        0           2171"
      ]
     },
     "execution_count": 34,
     "metadata": {},
     "output_type": "execute_result"
    }
   ],
   "source": [
    "german_sample.head() #can see 5 rows from top, kind of preview"
   ]
  },
  {
   "cell_type": "code",
   "execution_count": 35,
   "metadata": {},
   "outputs": [
    {
     "data": {
      "text/html": [
       "<div>\n",
       "<style scoped>\n",
       "    .dataframe tbody tr th:only-of-type {\n",
       "        vertical-align: middle;\n",
       "    }\n",
       "\n",
       "    .dataframe tbody tr th {\n",
       "        vertical-align: top;\n",
       "    }\n",
       "\n",
       "    .dataframe thead th {\n",
       "        text-align: right;\n",
       "    }\n",
       "</style>\n",
       "<table border=\"1\" class=\"dataframe\">\n",
       "  <thead>\n",
       "    <tr style=\"text-align: right;\">\n",
       "      <th></th>\n",
       "      <th>Creditability</th>\n",
       "      <th>Duration of Credit (month)</th>\n",
       "      <th>Purpose</th>\n",
       "      <th>Credit Amount</th>\n",
       "    </tr>\n",
       "  </thead>\n",
       "  <tbody>\n",
       "    <tr>\n",
       "      <th>0</th>\n",
       "      <td>1</td>\n",
       "      <td>18</td>\n",
       "      <td>2</td>\n",
       "      <td>1049</td>\n",
       "    </tr>\n",
       "    <tr>\n",
       "      <th>1</th>\n",
       "      <td>1</td>\n",
       "      <td>9</td>\n",
       "      <td>0</td>\n",
       "      <td>2799</td>\n",
       "    </tr>\n",
       "    <tr>\n",
       "      <th>2</th>\n",
       "      <td>1</td>\n",
       "      <td>12</td>\n",
       "      <td>9</td>\n",
       "      <td>841</td>\n",
       "    </tr>\n",
       "  </tbody>\n",
       "</table>\n",
       "</div>"
      ],
      "text/plain": [
       "   Creditability  Duration of Credit (month)  Purpose  Credit Amount\n",
       "0              1                          18        2           1049\n",
       "1              1                           9        0           2799\n",
       "2              1                          12        9            841"
      ]
     },
     "execution_count": 35,
     "metadata": {},
     "output_type": "execute_result"
    }
   ],
   "source": [
    "german_sample.head(3) #can set num of rows"
   ]
  },
  {
   "cell_type": "code",
   "execution_count": 36,
   "metadata": {},
   "outputs": [
    {
     "data": {
      "text/plain": [
       "Creditability                   0\n",
       "Duration of Credit (month)      4\n",
       "Purpose                         0\n",
       "Credit Amount                 250\n",
       "dtype: int64"
      ]
     },
     "execution_count": 36,
     "metadata": {},
     "output_type": "execute_result"
    }
   ],
   "source": [
    "german_sample.min() #get min value of each column"
   ]
  },
  {
   "cell_type": "code",
   "execution_count": 37,
   "metadata": {},
   "outputs": [
    {
     "data": {
      "text/plain": [
       "Creditability                     1\n",
       "Duration of Credit (month)       72\n",
       "Purpose                          10\n",
       "Credit Amount                 18424\n",
       "dtype: int64"
      ]
     },
     "execution_count": 37,
     "metadata": {},
     "output_type": "execute_result"
    }
   ],
   "source": [
    "german_sample.max() #get max value of each column"
   ]
  },
  {
   "cell_type": "code",
   "execution_count": 38,
   "metadata": {},
   "outputs": [
    {
     "data": {
      "text/plain": [
       "Creditability                    0.700\n",
       "Duration of Credit (month)      20.903\n",
       "Purpose                          2.828\n",
       "Credit Amount                 3271.248\n",
       "dtype: float64"
      ]
     },
     "execution_count": 38,
     "metadata": {},
     "output_type": "execute_result"
    }
   ],
   "source": [
    "german_sample.mean() #get average of each column"
   ]
  },
  {
   "cell_type": "code",
   "execution_count": 39,
   "metadata": {},
   "outputs": [
    {
     "data": {
      "text/html": [
       "<div>\n",
       "<style scoped>\n",
       "    .dataframe tbody tr th:only-of-type {\n",
       "        vertical-align: middle;\n",
       "    }\n",
       "\n",
       "    .dataframe tbody tr th {\n",
       "        vertical-align: top;\n",
       "    }\n",
       "\n",
       "    .dataframe thead th {\n",
       "        text-align: right;\n",
       "    }\n",
       "</style>\n",
       "<table border=\"1\" class=\"dataframe\">\n",
       "  <thead>\n",
       "    <tr style=\"text-align: right;\">\n",
       "      <th></th>\n",
       "      <th>Creditability</th>\n",
       "      <th>Duration of Credit (month)</th>\n",
       "      <th>Purpose</th>\n",
       "      <th>Credit Amount</th>\n",
       "    </tr>\n",
       "  </thead>\n",
       "  <tbody>\n",
       "    <tr>\n",
       "      <th>count</th>\n",
       "      <td>1000.000000</td>\n",
       "      <td>1000.000000</td>\n",
       "      <td>1000.000000</td>\n",
       "      <td>1000.00000</td>\n",
       "    </tr>\n",
       "    <tr>\n",
       "      <th>mean</th>\n",
       "      <td>0.700000</td>\n",
       "      <td>20.903000</td>\n",
       "      <td>2.828000</td>\n",
       "      <td>3271.24800</td>\n",
       "    </tr>\n",
       "    <tr>\n",
       "      <th>std</th>\n",
       "      <td>0.458487</td>\n",
       "      <td>12.058814</td>\n",
       "      <td>2.744439</td>\n",
       "      <td>2822.75176</td>\n",
       "    </tr>\n",
       "    <tr>\n",
       "      <th>min</th>\n",
       "      <td>0.000000</td>\n",
       "      <td>4.000000</td>\n",
       "      <td>0.000000</td>\n",
       "      <td>250.00000</td>\n",
       "    </tr>\n",
       "    <tr>\n",
       "      <th>25%</th>\n",
       "      <td>0.000000</td>\n",
       "      <td>12.000000</td>\n",
       "      <td>1.000000</td>\n",
       "      <td>1365.50000</td>\n",
       "    </tr>\n",
       "    <tr>\n",
       "      <th>50%</th>\n",
       "      <td>1.000000</td>\n",
       "      <td>18.000000</td>\n",
       "      <td>2.000000</td>\n",
       "      <td>2319.50000</td>\n",
       "    </tr>\n",
       "    <tr>\n",
       "      <th>75%</th>\n",
       "      <td>1.000000</td>\n",
       "      <td>24.000000</td>\n",
       "      <td>3.000000</td>\n",
       "      <td>3972.25000</td>\n",
       "    </tr>\n",
       "    <tr>\n",
       "      <th>max</th>\n",
       "      <td>1.000000</td>\n",
       "      <td>72.000000</td>\n",
       "      <td>10.000000</td>\n",
       "      <td>18424.00000</td>\n",
       "    </tr>\n",
       "  </tbody>\n",
       "</table>\n",
       "</div>"
      ],
      "text/plain": [
       "       Creditability  Duration of Credit (month)      Purpose  Credit Amount\n",
       "count    1000.000000                 1000.000000  1000.000000     1000.00000\n",
       "mean        0.700000                   20.903000     2.828000     3271.24800\n",
       "std         0.458487                   12.058814     2.744439     2822.75176\n",
       "min         0.000000                    4.000000     0.000000      250.00000\n",
       "25%         0.000000                   12.000000     1.000000     1365.50000\n",
       "50%         1.000000                   18.000000     2.000000     2319.50000\n",
       "75%         1.000000                   24.000000     3.000000     3972.25000\n",
       "max         1.000000                   72.000000    10.000000    18424.00000"
      ]
     },
     "execution_count": 39,
     "metadata": {},
     "output_type": "execute_result"
    }
   ],
   "source": [
    "german_sample.describe() #get basic statistical analysis"
   ]
  },
  {
   "cell_type": "code",
   "execution_count": 40,
   "metadata": {},
   "outputs": [
    {
     "data": {
      "text/html": [
       "<div>\n",
       "<style scoped>\n",
       "    .dataframe tbody tr th:only-of-type {\n",
       "        vertical-align: middle;\n",
       "    }\n",
       "\n",
       "    .dataframe tbody tr th {\n",
       "        vertical-align: top;\n",
       "    }\n",
       "\n",
       "    .dataframe thead th {\n",
       "        text-align: right;\n",
       "    }\n",
       "</style>\n",
       "<table border=\"1\" class=\"dataframe\">\n",
       "  <thead>\n",
       "    <tr style=\"text-align: right;\">\n",
       "      <th></th>\n",
       "      <th>Creditability</th>\n",
       "      <th>Duration of Credit (month)</th>\n",
       "      <th>Purpose</th>\n",
       "      <th>Credit Amount</th>\n",
       "    </tr>\n",
       "  </thead>\n",
       "  <tbody>\n",
       "    <tr>\n",
       "      <th>Creditability</th>\n",
       "      <td>1.000000</td>\n",
       "      <td>-0.214927</td>\n",
       "      <td>-0.017979</td>\n",
       "      <td>-0.154740</td>\n",
       "    </tr>\n",
       "    <tr>\n",
       "      <th>Duration of Credit (month)</th>\n",
       "      <td>-0.214927</td>\n",
       "      <td>1.000000</td>\n",
       "      <td>0.147492</td>\n",
       "      <td>0.624988</td>\n",
       "    </tr>\n",
       "    <tr>\n",
       "      <th>Purpose</th>\n",
       "      <td>-0.017979</td>\n",
       "      <td>0.147492</td>\n",
       "      <td>1.000000</td>\n",
       "      <td>0.068480</td>\n",
       "    </tr>\n",
       "    <tr>\n",
       "      <th>Credit Amount</th>\n",
       "      <td>-0.154740</td>\n",
       "      <td>0.624988</td>\n",
       "      <td>0.068480</td>\n",
       "      <td>1.000000</td>\n",
       "    </tr>\n",
       "  </tbody>\n",
       "</table>\n",
       "</div>"
      ],
      "text/plain": [
       "                            Creditability  Duration of Credit (month)  \\\n",
       "Creditability                    1.000000                   -0.214927   \n",
       "Duration of Credit (month)      -0.214927                    1.000000   \n",
       "Purpose                         -0.017979                    0.147492   \n",
       "Credit Amount                   -0.154740                    0.624988   \n",
       "\n",
       "                             Purpose  Credit Amount  \n",
       "Creditability              -0.017979      -0.154740  \n",
       "Duration of Credit (month)  0.147492       0.624988  \n",
       "Purpose                     1.000000       0.068480  \n",
       "Credit Amount               0.068480       1.000000  "
      ]
     },
     "execution_count": 40,
     "metadata": {},
     "output_type": "execute_result"
    }
   ],
   "source": [
    "german_sample.corr() #see correlation"
   ]
  },
  {
   "cell_type": "code",
   "execution_count": 41,
   "metadata": {},
   "outputs": [
    {
     "data": {
      "text/html": [
       "<div>\n",
       "<style scoped>\n",
       "    .dataframe tbody tr th:only-of-type {\n",
       "        vertical-align: middle;\n",
       "    }\n",
       "\n",
       "    .dataframe tbody tr th {\n",
       "        vertical-align: top;\n",
       "    }\n",
       "\n",
       "    .dataframe thead th {\n",
       "        text-align: right;\n",
       "    }\n",
       "</style>\n",
       "<table border=\"1\" class=\"dataframe\">\n",
       "  <thead>\n",
       "    <tr style=\"text-align: right;\">\n",
       "      <th></th>\n",
       "      <th>Credit Amount</th>\n",
       "      <th>Type of apartment</th>\n",
       "    </tr>\n",
       "  </thead>\n",
       "  <tbody>\n",
       "    <tr>\n",
       "      <th>0</th>\n",
       "      <td>1049</td>\n",
       "      <td>1</td>\n",
       "    </tr>\n",
       "    <tr>\n",
       "      <th>1</th>\n",
       "      <td>2799</td>\n",
       "      <td>1</td>\n",
       "    </tr>\n",
       "    <tr>\n",
       "      <th>2</th>\n",
       "      <td>841</td>\n",
       "      <td>1</td>\n",
       "    </tr>\n",
       "    <tr>\n",
       "      <th>3</th>\n",
       "      <td>2122</td>\n",
       "      <td>1</td>\n",
       "    </tr>\n",
       "    <tr>\n",
       "      <th>4</th>\n",
       "      <td>2171</td>\n",
       "      <td>2</td>\n",
       "    </tr>\n",
       "  </tbody>\n",
       "</table>\n",
       "</div>"
      ],
      "text/plain": [
       "   Credit Amount  Type of apartment\n",
       "0           1049                  1\n",
       "1           2799                  1\n",
       "2            841                  1\n",
       "3           2122                  1\n",
       "4           2171                  2"
      ]
     },
     "execution_count": 41,
     "metadata": {},
     "output_type": "execute_result"
    }
   ],
   "source": [
    "# Group by\n",
    "\n",
    "german_sample = german[['Credit Amount','Type of apartment']]\n",
    "\n",
    "german_sample.head()"
   ]
  },
  {
   "cell_type": "code",
   "execution_count": 42,
   "metadata": {},
   "outputs": [
    {
     "name": "stdout",
     "output_type": "stream",
     "text": [
      "<pandas.core.groupby.generic.SeriesGroupBy object at 0x000001AC7C021810>\n"
     ]
    }
   ],
   "source": [
    "german_grouped = german_sample['Credit Amount'].groupby(german_sample['Type of apartment']) #group series by other series\n",
    "\n",
    "print(german_grouped)"
   ]
  },
  {
   "cell_type": "code",
   "execution_count": 43,
   "metadata": {},
   "outputs": [
    {
     "data": {
      "text/html": [
       "<div>\n",
       "<style scoped>\n",
       "    .dataframe tbody tr th:only-of-type {\n",
       "        vertical-align: middle;\n",
       "    }\n",
       "\n",
       "    .dataframe tbody tr th {\n",
       "        vertical-align: top;\n",
       "    }\n",
       "\n",
       "    .dataframe thead th {\n",
       "        text-align: right;\n",
       "    }\n",
       "</style>\n",
       "<table border=\"1\" class=\"dataframe\">\n",
       "  <thead>\n",
       "    <tr style=\"text-align: right;\">\n",
       "      <th></th>\n",
       "      <th>count</th>\n",
       "      <th>mean</th>\n",
       "      <th>std</th>\n",
       "      <th>min</th>\n",
       "      <th>25%</th>\n",
       "      <th>50%</th>\n",
       "      <th>75%</th>\n",
       "      <th>max</th>\n",
       "    </tr>\n",
       "    <tr>\n",
       "      <th>Type of apartment</th>\n",
       "      <th></th>\n",
       "      <th></th>\n",
       "      <th></th>\n",
       "      <th></th>\n",
       "      <th></th>\n",
       "      <th></th>\n",
       "      <th></th>\n",
       "      <th></th>\n",
       "    </tr>\n",
       "  </thead>\n",
       "  <tbody>\n",
       "    <tr>\n",
       "      <th>1</th>\n",
       "      <td>179.0</td>\n",
       "      <td>3122.553073</td>\n",
       "      <td>2553.519070</td>\n",
       "      <td>276.0</td>\n",
       "      <td>1402.50</td>\n",
       "      <td>2301.0</td>\n",
       "      <td>3627.0</td>\n",
       "      <td>15945.0</td>\n",
       "    </tr>\n",
       "    <tr>\n",
       "      <th>2</th>\n",
       "      <td>714.0</td>\n",
       "      <td>3067.257703</td>\n",
       "      <td>2663.112409</td>\n",
       "      <td>250.0</td>\n",
       "      <td>1324.75</td>\n",
       "      <td>2239.5</td>\n",
       "      <td>3810.0</td>\n",
       "      <td>18424.0</td>\n",
       "    </tr>\n",
       "    <tr>\n",
       "      <th>3</th>\n",
       "      <td>107.0</td>\n",
       "      <td>4881.205607</td>\n",
       "      <td>3674.996303</td>\n",
       "      <td>700.0</td>\n",
       "      <td>1841.00</td>\n",
       "      <td>3757.0</td>\n",
       "      <td>6900.0</td>\n",
       "      <td>14782.0</td>\n",
       "    </tr>\n",
       "  </tbody>\n",
       "</table>\n",
       "</div>"
      ],
      "text/plain": [
       "                   count         mean          std    min      25%     50%  \\\n",
       "Type of apartment                                                            \n",
       "1                  179.0  3122.553073  2553.519070  276.0  1402.50  2301.0   \n",
       "2                  714.0  3067.257703  2663.112409  250.0  1324.75  2239.5   \n",
       "3                  107.0  4881.205607  3674.996303  700.0  1841.00  3757.0   \n",
       "\n",
       "                      75%      max  \n",
       "Type of apartment                   \n",
       "1                  3627.0  15945.0  \n",
       "2                  3810.0  18424.0  \n",
       "3                  6900.0  14782.0  "
      ]
     },
     "execution_count": 43,
     "metadata": {},
     "output_type": "execute_result"
    }
   ],
   "source": [
    "german_grouped.describe()"
   ]
  },
  {
   "cell_type": "code",
   "execution_count": 44,
   "metadata": {},
   "outputs": [
    {
     "name": "stdout",
     "output_type": "stream",
     "text": [
      "   Type of apartment  Sex & Marital Status  Credit Amount\n",
      "0                  1                     2           1049\n",
      "1                  1                     3           2799\n",
      "2                  1                     2            841\n",
      "3                  1                     3           2122\n",
      "4                  2                     3           2171\n"
     ]
    }
   ],
   "source": [
    "german_sample = german[['Type of apartment', 'Sex & Marital Status', 'Credit Amount']]\n",
    "\n",
    "print(german_sample.head())"
   ]
  },
  {
   "cell_type": "code",
   "execution_count": 45,
   "metadata": {},
   "outputs": [
    {
     "name": "stdout",
     "output_type": "stream",
     "text": [
      "1\n",
      "   Type of apartment  Sex & Marital Status  Credit Amount\n",
      "0                  1                     2           1049\n",
      "1                  1                     3           2799\n",
      "2                  1                     2            841\n",
      "3                  1                     3           2122\n",
      "5                  1                     3           2241\n",
      "2\n",
      "    Type of apartment  Sex & Marital Status  Credit Amount\n",
      "4                   2                     3           2171\n",
      "6                   2                     3           3398\n",
      "7                   2                     3           1361\n",
      "8                   2                     2           1098\n",
      "12                  2                     2           1957\n",
      "3\n",
      "     Type of apartment  Sex & Marital Status  Credit Amount\n",
      "29                   3                     3           4796\n",
      "44                   3                     3           1239\n",
      "69                   3                     3           2032\n",
      "125                  3                     4           5103\n",
      "146                  3                     3           2964\n"
     ]
    }
   ],
   "source": [
    "german_grouped = german_sample.groupby('Type of apartment') #group other values using column\n",
    "\n",
    "for type, group in german_grouped:\n",
    "    print(type)\n",
    "    print(group.head())"
   ]
  },
  {
   "cell_type": "code",
   "execution_count": 46,
   "metadata": {},
   "outputs": [
    {
     "name": "stdout",
     "output_type": "stream",
     "text": [
      "(1, 1)\n",
      "     Type of apartment  Sex & Marital Status  Credit Amount\n",
      "369                  1                     1           3021\n",
      "777                  1                     1           3384\n",
      "797                  1                     1           2319\n",
      "(1, 2)\n",
      "   Type of apartment  Sex & Marital Status  Credit Amount\n",
      "0                  1                     2           1049\n",
      "2                  1                     2            841\n",
      "9                  1                     2           3758\n",
      "(1, 3)\n",
      "   Type of apartment  Sex & Marital Status  Credit Amount\n",
      "1                  1                     3           2799\n",
      "3                  1                     3           2122\n",
      "5                  1                     3           2241\n",
      "(1, 4)\n",
      "    Type of apartment  Sex & Marital Status  Credit Amount\n",
      "11                  1                     4           6187\n",
      "14                  1                     4           1936\n",
      "17                  1                     4           3213\n",
      "(2, 1)\n",
      "     Type of apartment  Sex & Marital Status  Credit Amount\n",
      "50                   2                     1            640\n",
      "97                   2                     1           4455\n",
      "112                  2                     1           2366\n",
      "(2, 2)\n",
      "    Type of apartment  Sex & Marital Status  Credit Amount\n",
      "8                   2                     2           1098\n",
      "12                  2                     2           1957\n",
      "33                  2                     2           1376\n",
      "(2, 3)\n",
      "   Type of apartment  Sex & Marital Status  Credit Amount\n",
      "4                  2                     3           2171\n",
      "6                  2                     3           3398\n",
      "7                  2                     3           1361\n",
      "(2, 4)\n",
      "    Type of apartment  Sex & Marital Status  Credit Amount\n",
      "48                  2                     4           1474\n",
      "57                  2                     4           1053\n",
      "78                  2                     4           1602\n",
      "(3, 1)\n",
      "     Type of apartment  Sex & Marital Status  Credit Amount\n",
      "620                  3                     1           9277\n",
      "749                  3                     1           2892\n",
      "784                  3                     1           2149\n",
      "(3, 2)\n",
      "     Type of apartment  Sex & Marital Status  Credit Amount\n",
      "423                  3                     2           2133\n",
      "453                  3                     2           5743\n",
      "467                  3                     2           5324\n",
      "(3, 3)\n",
      "    Type of apartment  Sex & Marital Status  Credit Amount\n",
      "29                  3                     3           4796\n",
      "44                  3                     3           1239\n",
      "69                  3                     3           2032\n",
      "(3, 4)\n",
      "     Type of apartment  Sex & Marital Status  Credit Amount\n",
      "125                  3                     4           5103\n"
     ]
    }
   ],
   "source": [
    "for type, group in german_sample.groupby(['Type of apartment', 'Sex & Marital Status']): #can use multi-columns for group\n",
    "    print(type)\n",
    "    print(group.head(3))"
   ]
  },
  {
   "cell_type": "code",
   "execution_count": 47,
   "metadata": {},
   "outputs": [
    {
     "data": {
      "text/html": [
       "<div>\n",
       "<style scoped>\n",
       "    .dataframe tbody tr th:only-of-type {\n",
       "        vertical-align: middle;\n",
       "    }\n",
       "\n",
       "    .dataframe tbody tr th {\n",
       "        vertical-align: top;\n",
       "    }\n",
       "\n",
       "    .dataframe thead tr th {\n",
       "        text-align: left;\n",
       "    }\n",
       "\n",
       "    .dataframe thead tr:last-of-type th {\n",
       "        text-align: right;\n",
       "    }\n",
       "</style>\n",
       "<table border=\"1\" class=\"dataframe\">\n",
       "  <thead>\n",
       "    <tr>\n",
       "      <th></th>\n",
       "      <th colspan=\"8\" halign=\"left\">Sex &amp; Marital Status</th>\n",
       "      <th colspan=\"8\" halign=\"left\">Credit Amount</th>\n",
       "    </tr>\n",
       "    <tr>\n",
       "      <th></th>\n",
       "      <th>count</th>\n",
       "      <th>mean</th>\n",
       "      <th>std</th>\n",
       "      <th>min</th>\n",
       "      <th>25%</th>\n",
       "      <th>50%</th>\n",
       "      <th>75%</th>\n",
       "      <th>max</th>\n",
       "      <th>count</th>\n",
       "      <th>mean</th>\n",
       "      <th>std</th>\n",
       "      <th>min</th>\n",
       "      <th>25%</th>\n",
       "      <th>50%</th>\n",
       "      <th>75%</th>\n",
       "      <th>max</th>\n",
       "    </tr>\n",
       "    <tr>\n",
       "      <th>Type of apartment</th>\n",
       "      <th></th>\n",
       "      <th></th>\n",
       "      <th></th>\n",
       "      <th></th>\n",
       "      <th></th>\n",
       "      <th></th>\n",
       "      <th></th>\n",
       "      <th></th>\n",
       "      <th></th>\n",
       "      <th></th>\n",
       "      <th></th>\n",
       "      <th></th>\n",
       "      <th></th>\n",
       "      <th></th>\n",
       "      <th></th>\n",
       "      <th></th>\n",
       "    </tr>\n",
       "  </thead>\n",
       "  <tbody>\n",
       "    <tr>\n",
       "      <th>1</th>\n",
       "      <td>179.0</td>\n",
       "      <td>2.530726</td>\n",
       "      <td>0.759143</td>\n",
       "      <td>1.0</td>\n",
       "      <td>2.0</td>\n",
       "      <td>2.0</td>\n",
       "      <td>3.0</td>\n",
       "      <td>4.0</td>\n",
       "      <td>179.0</td>\n",
       "      <td>3122.553073</td>\n",
       "      <td>2553.519070</td>\n",
       "      <td>276.0</td>\n",
       "      <td>1402.50</td>\n",
       "      <td>2301.0</td>\n",
       "      <td>3627.0</td>\n",
       "      <td>15945.0</td>\n",
       "    </tr>\n",
       "    <tr>\n",
       "      <th>2</th>\n",
       "      <td>714.0</td>\n",
       "      <td>2.705882</td>\n",
       "      <td>0.716697</td>\n",
       "      <td>1.0</td>\n",
       "      <td>2.0</td>\n",
       "      <td>3.0</td>\n",
       "      <td>3.0</td>\n",
       "      <td>4.0</td>\n",
       "      <td>714.0</td>\n",
       "      <td>3067.257703</td>\n",
       "      <td>2663.112409</td>\n",
       "      <td>250.0</td>\n",
       "      <td>1324.75</td>\n",
       "      <td>2239.5</td>\n",
       "      <td>3810.0</td>\n",
       "      <td>18424.0</td>\n",
       "    </tr>\n",
       "    <tr>\n",
       "      <th>3</th>\n",
       "      <td>107.0</td>\n",
       "      <td>2.775701</td>\n",
       "      <td>0.501101</td>\n",
       "      <td>1.0</td>\n",
       "      <td>3.0</td>\n",
       "      <td>3.0</td>\n",
       "      <td>3.0</td>\n",
       "      <td>4.0</td>\n",
       "      <td>107.0</td>\n",
       "      <td>4881.205607</td>\n",
       "      <td>3674.996303</td>\n",
       "      <td>700.0</td>\n",
       "      <td>1841.00</td>\n",
       "      <td>3757.0</td>\n",
       "      <td>6900.0</td>\n",
       "      <td>14782.0</td>\n",
       "    </tr>\n",
       "  </tbody>\n",
       "</table>\n",
       "</div>"
      ],
      "text/plain": [
       "                  Sex & Marital Status                                     \\\n",
       "                                 count      mean       std  min  25%  50%   \n",
       "Type of apartment                                                           \n",
       "1                                179.0  2.530726  0.759143  1.0  2.0  2.0   \n",
       "2                                714.0  2.705882  0.716697  1.0  2.0  3.0   \n",
       "3                                107.0  2.775701  0.501101  1.0  3.0  3.0   \n",
       "\n",
       "                            Credit Amount                                   \\\n",
       "                   75%  max         count         mean          std    min   \n",
       "Type of apartment                                                            \n",
       "1                  3.0  4.0         179.0  3122.553073  2553.519070  276.0   \n",
       "2                  3.0  4.0         714.0  3067.257703  2663.112409  250.0   \n",
       "3                  3.0  4.0         107.0  4881.205607  3674.996303  700.0   \n",
       "\n",
       "                                                     \n",
       "                       25%     50%     75%      max  \n",
       "Type of apartment                                    \n",
       "1                  1402.50  2301.0  3627.0  15945.0  \n",
       "2                  1324.75  2239.5  3810.0  18424.0  \n",
       "3                  1841.00  3757.0  6900.0  14782.0  "
      ]
     },
     "execution_count": 47,
     "metadata": {},
     "output_type": "execute_result"
    }
   ],
   "source": [
    "german_grouped.describe()"
   ]
  },
  {
   "cell_type": "markdown",
   "metadata": {},
   "source": [
    "## *Handling null values*"
   ]
  },
  {
   "cell_type": "code",
   "execution_count": 49,
   "metadata": {},
   "outputs": [],
   "source": [
    "# Prepare data\n",
    "import seaborn as sns\n",
    "planet = sns.load_dataset('planets')"
   ]
  },
  {
   "cell_type": "code",
   "execution_count": 54,
   "metadata": {},
   "outputs": [
    {
     "name": "stdout",
     "output_type": "stream",
     "text": [
      "(1035, 6)\n",
      "            method  number  orbital_period   mass  distance  year\n",
      "0  Radial Velocity       1         269.300   7.10     77.40  2006\n",
      "1  Radial Velocity       1         874.774   2.21     56.95  2008\n",
      "2  Radial Velocity       1         763.000   2.60     19.84  2011\n",
      "3  Radial Velocity       1         326.030  19.40    110.62  2007\n",
      "4  Radial Velocity       1         516.220  10.50    119.47  2009\n"
     ]
    }
   ],
   "source": [
    "print(planet.shape)\n",
    "print(planet.head())"
   ]
  },
  {
   "cell_type": "code",
   "execution_count": 57,
   "metadata": {},
   "outputs": [
    {
     "name": "stdout",
     "output_type": "stream",
     "text": [
      "(498, 6)\n"
     ]
    }
   ],
   "source": [
    "planet = planet.dropna() #delete rows have null value\n",
    "\n",
    "print(planet.shape)"
   ]
  },
  {
   "cell_type": "markdown",
   "metadata": {},
   "source": [
    "How to manage null values:   \n",
    "null values can occur error. need to manage them.\n",
    "1. Drop all data have null. Only can use when have enough data\n",
    "2. Replace null to random value. Can pollute data\n",
    "3. Replace null to average value."
   ]
  },
  {
   "cell_type": "code",
   "execution_count": 60,
   "metadata": {},
   "outputs": [
    {
     "name": "stdout",
     "output_type": "stream",
     "text": [
      "(15547, 5)\n",
      "   year  month  day gender  births\n",
      "0  1969      1  1.0      F    4046\n",
      "1  1969      1  1.0      M    4440\n",
      "2  1969      1  2.0      F    4454\n",
      "3  1969      1  2.0      M    4548\n",
      "4  1969      1  3.0      F    4548\n"
     ]
    }
   ],
   "source": [
    "# Practice with America birth data\n",
    "\n",
    "births = pd.read_csv('https://raw.githubusercontent.com/jakevdp/data-CDCbirths/master/births.csv')\n",
    "\n",
    "print(births.shape)\n",
    "print(births.head())"
   ]
  },
  {
   "cell_type": "code",
   "execution_count": 61,
   "metadata": {},
   "outputs": [
    {
     "name": "stdout",
     "output_type": "stream",
     "text": [
      "   year  month  day gender  births  decade\n",
      "0  1969      1  1.0      F    4046    1960\n",
      "1  1969      1  1.0      M    4440    1960\n",
      "2  1969      1  2.0      F    4454    1960\n",
      "3  1969      1  2.0      M    4548    1960\n",
      "4  1969      1  3.0      F    4548    1960\n"
     ]
    }
   ],
   "source": [
    "# Split data in decades\n",
    "\n",
    "births['decade'] = births['year'] // 10 * 10\n",
    "print(births.head())"
   ]
  },
  {
   "cell_type": "code",
   "execution_count": 64,
   "metadata": {},
   "outputs": [
    {
     "name": "stdout",
     "output_type": "stream",
     "text": [
      "gender         F         M\n",
      "decade                    \n",
      "1960     1753634   1846572\n",
      "1970    16263075  17121550\n",
      "1980    18310351  19243452\n",
      "1990    19479454  20420553\n",
      "2000    18229309  19106428\n"
     ]
    }
   ],
   "source": [
    "births_pivotted = births.pivot_table('births', index='decade', columns='gender', aggfunc='sum') #make new table using data\n",
    "# DataFrame.pivot_table(value, index='column using as index', columns='column using as columns', aggfunc='function used for make value')\n",
    "# also can write pd.pivot_table(DataFrame, index, columns, values, aggfunc)\n",
    "# Values of index column be indexs and values of column column be columns. Use value and aggfunc fill values\n",
    "\n",
    "print(births_pivotted)"
   ]
  },
  {
   "cell_type": "code",
   "execution_count": 67,
   "metadata": {},
   "outputs": [
    {
     "data": {
      "text/plain": [
       "<AxesSubplot: xlabel='year'>"
      ]
     },
     "execution_count": 67,
     "metadata": {},
     "output_type": "execute_result"
    },
    {
     "data": {
      "image/png": "[encoded data removed]",
      "text/plain": [
       "<Figure size 640x480 with 1 Axes>"
      ]
     },
     "metadata": {},
     "output_type": "display_data"
    }
   ],
   "source": [
    "import matplotlib.pyplot as plt\n",
    "\n",
    "births.pivot_table('births', index='year', columns='gender', aggfunc='sum').plot()"
   ]
  },
  {
   "cell_type": "code",
   "execution_count": null,
   "metadata": {},
   "outputs": [],
   "source": []
  }
 ],
 "metadata": {
  "kernelspec": {
   "display_name": "Python 3.10.8 64-bit (microsoft store)",
   "language": "python",
   "name": "python3"
  },
  "language_info": {
   "codemirror_mode": {
    "name": "ipython",
    "version": 3
   },
   "file_extension": ".py",
   "mimetype": "text/x-python",
   "name": "python",
   "nbconvert_exporter": "python",
   "pygments_lexer": "ipython3",
   "version": "3.10.8"
  },
  "orig_nbformat": 4,
  "vscode": {
   "interpreter": {
    "hash": "efe9372a1efa3f8f94af046a62a2012c6615b7b453923c0d7d1686f1c7792c16"
   }
  }
 },
 "nbformat": 4,
 "nbformat_minor": 2
}
