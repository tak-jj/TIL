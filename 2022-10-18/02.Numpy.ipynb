{
 "cells": [
  {
   "cell_type": "markdown",
   "metadata": {},
   "source": [
    "# **Numpy**"
   ]
  },
  {
   "cell_type": "code",
   "execution_count": 2,
   "metadata": {},
   "outputs": [],
   "source": [
    "import numpy as np"
   ]
  },
  {
   "cell_type": "code",
   "execution_count": 3,
   "metadata": {},
   "outputs": [
    {
     "name": "stdout",
     "output_type": "stream",
     "text": [
      "[1 2 3 4]\n",
      "<class 'numpy.ndarray'>\n"
     ]
    }
   ],
   "source": [
    "# make ndarray\n",
    "\n",
    "arr = np.array([1,2,3,4])\n",
    "print(arr)\n",
    "print(type(arr))"
   ]
  },
  {
   "cell_type": "code",
   "execution_count": 4,
   "metadata": {},
   "outputs": [
    {
     "name": "stdout",
     "output_type": "stream",
     "text": [
      "[0 1 2 3 4 5 6 7 8 9]\n"
     ]
    }
   ],
   "source": [
    "arr = np.arange(10)\n",
    "print(arr)"
   ]
  },
  {
   "cell_type": "code",
   "execution_count": 5,
   "metadata": {},
   "outputs": [
    {
     "name": "stdout",
     "output_type": "stream",
     "text": [
      "[[0. 0. 0.]\n",
      " [0. 0. 0.]\n",
      " [0. 0. 0.]]\n"
     ]
    }
   ],
   "source": [
    "# make array filled with 0\n",
    "\n",
    "arr = np.zeros((3,3))\n",
    "print(arr)"
   ]
  },
  {
   "cell_type": "code",
   "execution_count": 6,
   "metadata": {},
   "outputs": [
    {
     "name": "stdout",
     "output_type": "stream",
     "text": [
      "[[1. 1. 1.]\n",
      " [1. 1. 1.]\n",
      " [1. 1. 1.]]\n"
     ]
    }
   ],
   "source": [
    "# also can 1\n",
    "\n",
    "arr = np.ones((3,3))\n",
    "print(arr)"
   ]
  },
  {
   "cell_type": "code",
   "execution_count": 7,
   "metadata": {},
   "outputs": [
    {
     "name": "stdout",
     "output_type": "stream",
     "text": [
      "[[4.67296746e-307 1.69121096e-306 1.20160575e-306 6.23056670e-307]\n",
      " [2.22522597e-306 1.33511969e-306 1.37962320e-306 9.34604358e-307]\n",
      " [9.79101082e-307 1.78020576e-306 1.69119873e-306 2.22522868e-306]\n",
      " [1.24611809e-306 8.06632139e-308 1.60221208e-306 2.29178686e-312]]\n"
     ]
    }
   ],
   "source": [
    "# array filled with empty value\n",
    "\n",
    "arr = np.empty((4,4))\n",
    "print(arr) #can see leftover data"
   ]
  },
  {
   "cell_type": "code",
   "execution_count": 8,
   "metadata": {},
   "outputs": [
    {
     "name": "stdout",
     "output_type": "stream",
     "text": [
      "[[1 2 3]\n",
      " [4 5 6]]\n"
     ]
    }
   ],
   "source": [
    "# Get information of ndarray\n",
    "arr = np.array([[1,2,3],[4,5,6]])\n",
    "print(arr)"
   ]
  },
  {
   "cell_type": "code",
   "execution_count": 9,
   "metadata": {},
   "outputs": [
    {
     "name": "stdout",
     "output_type": "stream",
     "text": [
      "(2, 3)\n",
      "2\n",
      "int32\n"
     ]
    }
   ],
   "source": [
    "print(arr.shape) #shape of array\n",
    "print(arr.ndim) #dimension of array\n",
    "print(arr.dtype) #data type of array"
   ]
  },
  {
   "cell_type": "code",
   "execution_count": 10,
   "metadata": {},
   "outputs": [
    {
     "name": "stdout",
     "output_type": "stream",
     "text": [
      "<U1\n"
     ]
    }
   ],
   "source": [
    "# Change data type in ndarray\n",
    "arr_str = np.array(['1','2','3'])\n",
    "print(arr_str.dtype)"
   ]
  },
  {
   "cell_type": "code",
   "execution_count": 11,
   "metadata": {},
   "outputs": [
    {
     "name": "stdout",
     "output_type": "stream",
     "text": [
      "[1 2 3]\n",
      "int64\n"
     ]
    }
   ],
   "source": [
    "arr_int = arr_str.astype(np.int64)\n",
    "print(arr_int)\n",
    "print(arr_int.dtype)"
   ]
  },
  {
   "cell_type": "code",
   "execution_count": 12,
   "metadata": {},
   "outputs": [
    {
     "name": "stdout",
     "output_type": "stream",
     "text": [
      "[1. 2. 3.]\n",
      "float64\n"
     ]
    }
   ],
   "source": [
    "arr_float = arr_int.astype(np.float64)\n",
    "print(arr_float)\n",
    "print(arr_float.dtype)"
   ]
  },
  {
   "cell_type": "code",
   "execution_count": 13,
   "metadata": {},
   "outputs": [],
   "source": [
    "# Calculation of ndarray\n",
    "\n",
    "arr1 = np.array([[1,2],[3,4]])\n",
    "arr2 = np.array([[5,6],[7,8]])"
   ]
  },
  {
   "cell_type": "code",
   "execution_count": 14,
   "metadata": {},
   "outputs": [
    {
     "name": "stdout",
     "output_type": "stream",
     "text": [
      "[[ 6  8]\n",
      " [10 12]]\n",
      "[[ 6  8]\n",
      " [10 12]]\n"
     ]
    }
   ],
   "source": [
    "print(arr1 + arr2)\n",
    "print(np.add(arr1, arr2))"
   ]
  },
  {
   "cell_type": "code",
   "execution_count": 15,
   "metadata": {},
   "outputs": [
    {
     "name": "stdout",
     "output_type": "stream",
     "text": [
      "[[-4 -4]\n",
      " [-4 -4]]\n",
      "[[-4 -4]\n",
      " [-4 -4]]\n"
     ]
    }
   ],
   "source": [
    "print(arr1 - arr2)\n",
    "print(np.subtract(arr1, arr2))"
   ]
  },
  {
   "cell_type": "code",
   "execution_count": 16,
   "metadata": {},
   "outputs": [
    {
     "name": "stdout",
     "output_type": "stream",
     "text": [
      "[[ 5 12]\n",
      " [21 32]]\n",
      "[[ 5 12]\n",
      " [21 32]]\n"
     ]
    }
   ],
   "source": [
    "print(arr1 * arr2)\n",
    "print(np.multiply(arr1, arr2))"
   ]
  },
  {
   "cell_type": "code",
   "execution_count": 17,
   "metadata": {},
   "outputs": [
    {
     "name": "stdout",
     "output_type": "stream",
     "text": [
      "[[0.2        0.33333333]\n",
      " [0.42857143 0.5       ]]\n",
      "[[0.2        0.33333333]\n",
      " [0.42857143 0.5       ]]\n"
     ]
    }
   ],
   "source": [
    "print(arr1 / arr2)\n",
    "print(np.divide(arr1, arr2))"
   ]
  },
  {
   "cell_type": "code",
   "execution_count": 18,
   "metadata": {},
   "outputs": [
    {
     "name": "stdout",
     "output_type": "stream",
     "text": [
      "[[19 22]\n",
      " [43 50]]\n"
     ]
    }
   ],
   "source": [
    "print(np.dot(arr1, arr2)) #matrix multiply"
   ]
  },
  {
   "cell_type": "code",
   "execution_count": 19,
   "metadata": {},
   "outputs": [
    {
     "name": "stdout",
     "output_type": "stream",
     "text": [
      "[[2 3]\n",
      " [5 6]]\n"
     ]
    }
   ],
   "source": [
    "# Slicing\n",
    "arr = np.array([[1,2,3],[4,5,6],[7,8,9]])\n",
    "\n",
    "arr1 = arr[:2,1:]\n",
    "print(arr1)"
   ]
  },
  {
   "cell_type": "code",
   "execution_count": 20,
   "metadata": {},
   "outputs": [
    {
     "name": "stdout",
     "output_type": "stream",
     "text": [
      "3\n"
     ]
    }
   ],
   "source": [
    "# Index\n",
    "print(arr[0,2])"
   ]
  },
  {
   "cell_type": "code",
   "execution_count": 21,
   "metadata": {},
   "outputs": [
    {
     "name": "stdout",
     "output_type": "stream",
     "text": [
      "[2]\n"
     ]
    }
   ],
   "source": [
    "# Mix Index and Slicing\n",
    "print(arr[0,1:-1])"
   ]
  },
  {
   "cell_type": "code",
   "execution_count": 22,
   "metadata": {},
   "outputs": [
    {
     "name": "stdout",
     "output_type": "stream",
     "text": [
      "[3 4 8]\n"
     ]
    }
   ],
   "source": [
    "# Array index\n",
    "print(arr[[0,1,2],[2,0,1]]) #get arr[0,2] [1,0] [2,1]"
   ]
  },
  {
   "cell_type": "code",
   "execution_count": 23,
   "metadata": {},
   "outputs": [
    {
     "name": "stdout",
     "output_type": "stream",
     "text": [
      "[[False False False]\n",
      " [ True  True  True]\n",
      " [ True  True  True]]\n"
     ]
    }
   ],
   "source": [
    "# Apply boolean to array\n",
    "idx = arr > 3\n",
    "print(idx)"
   ]
  },
  {
   "cell_type": "code",
   "execution_count": 24,
   "metadata": {},
   "outputs": [
    {
     "name": "stdout",
     "output_type": "stream",
     "text": [
      "[4 5 6 7 8 9]\n"
     ]
    }
   ],
   "source": [
    "# Boolean index\n",
    "print(arr[idx]) #get True element in ndarray"
   ]
  },
  {
   "cell_type": "code",
   "execution_count": 33,
   "metadata": {},
   "outputs": [
    {
     "name": "stdout",
     "output_type": "stream",
     "text": [
      "[1 3 5 6 7]\n"
     ]
    }
   ],
   "source": [
    "# Sort\n",
    "arr = [5,3,7,1,6]\n",
    "\n",
    "print(np.sort(arr,))"
   ]
  },
  {
   "cell_type": "code",
   "execution_count": 25,
   "metadata": {},
   "outputs": [
    {
     "name": "stdout",
     "output_type": "stream",
     "text": [
      "[[ 7.4    0.7    0.    ...  0.56   9.4    5.   ]\n",
      " [ 7.8    0.88   0.    ...  0.68   9.8    5.   ]\n",
      " [ 7.8    0.76   0.04  ...  0.65   9.8    5.   ]\n",
      " ...\n",
      " [ 6.3    0.51   0.13  ...  0.75  11.     6.   ]\n",
      " [ 5.9    0.645  0.12  ...  0.71  10.2    5.   ]\n",
      " [ 6.     0.31   0.47  ...  0.66  11.     6.   ]]\n"
     ]
    }
   ],
   "source": [
    "# Get data from file\n",
    "\n",
    "redwine = np.loadtxt(fname='winequality-red.csv', delimiter=';', skiprows=1) #use ; to separate data, skip first line\n",
    "print(redwine)\n"
   ]
  },
  {
   "cell_type": "code",
   "execution_count": 31,
   "metadata": {},
   "outputs": [
    {
     "name": "stdout",
     "output_type": "stream",
     "text": [
      "152084.78194\n",
      "7.926036165311652\n",
      "[7.4 7.8 7.8 ... 6.3 5.9 6. ]\n"
     ]
    }
   ],
   "source": [
    "# Basic statistics\n",
    "\n",
    "print(redwine.sum()) #sum of all element\n",
    "print(redwine.mean()) #average of all element\n",
    "\n",
    "print(redwine[:,0])"
   ]
  },
  {
   "cell_type": "code",
   "execution_count": 28,
   "metadata": {},
   "outputs": [
    {
     "name": "stdout",
     "output_type": "stream",
     "text": [
      "[13303.1       843.985     433.29     4059.55      139.859   25384.\n",
      " 74302.       1593.79794  5294.47     1052.38    16666.35     9012.     ]\n",
      "[ 8.31963727  0.52782051  0.27097561  2.5388055   0.08746654 15.87492183\n",
      " 46.46779237  0.99674668  3.3111132   0.65814884 10.42298311  5.63602251]\n",
      "[3.02952057e+00 3.20423261e-02 3.79237511e-02 1.98665392e+00\n",
      " 2.21375732e-03 1.09346457e+02 1.08142564e+03 3.55980179e-06\n",
      " 2.38202742e-02 2.87146470e-02 1.13493717e+00 6.51760540e-01]\n",
      "[1.74055180e+00 1.79003704e-01 1.94740214e-01 1.40948711e+00\n",
      " 4.70505826e-02 1.04568856e+01 3.28850367e+01 1.88674370e-03\n",
      " 1.54338181e-01 1.69453967e-01 1.06533430e+00 8.07316877e-01]\n"
     ]
    }
   ],
   "source": [
    "# Use axis\n",
    "\n",
    "print(redwine.sum(axis=0))\n",
    "print(redwine.mean(axis=0))"
   ]
  },
  {
   "cell_type": "code",
   "execution_count": 30,
   "metadata": {},
   "outputs": [
    {
     "name": "stdout",
     "output_type": "stream",
     "text": [
      "[4.6     0.12    0.      0.9     0.012   1.      6.      0.99007 2.74\n",
      " 0.33    8.4     3.     ]\n",
      "[ 15.9       1.58      1.       15.5       0.611    72.      289.\n",
      "   1.00369   4.01      2.       14.9       8.     ]\n",
      "[3.02952057e+00 3.20423261e-02 3.79237511e-02 1.98665392e+00\n",
      " 2.21375732e-03 1.09346457e+02 1.08142564e+03 3.55980179e-06\n",
      " 2.38202742e-02 2.87146470e-02 1.13493717e+00 6.51760540e-01]\n",
      "[1.74055180e+00 1.79003704e-01 1.94740214e-01 1.40948711e+00\n",
      " 4.70505826e-02 1.04568856e+01 3.28850367e+01 1.88674370e-03\n",
      " 1.54338181e-01 1.69453967e-01 1.06533430e+00 8.07316877e-01]\n",
      "[ 7.9      0.52     0.26     2.2      0.079   14.      38.       0.99675\n",
      "  3.31     0.62    10.2      6.     ]\n"
     ]
    }
   ],
   "source": [
    "# Other methods\n",
    "\n",
    "print(redwine.min(axis=0))\n",
    "print(redwine.max(axis=0))\n",
    "print(redwine.var(axis=0)) #Variance\n",
    "print(redwine.std(axis=0)) #Standard Deviation\n",
    "print(np.median(redwine, axis=0))"
   ]
  },
  {
   "cell_type": "code",
   "execution_count": null,
   "metadata": {},
   "outputs": [],
   "source": []
  }
 ],
 "metadata": {
  "kernelspec": {
   "display_name": "Python 3.10.8 64-bit (microsoft store)",
   "language": "python",
   "name": "python3"
  },
  "language_info": {
   "codemirror_mode": {
    "name": "ipython",
    "version": 3
   },
   "file_extension": ".py",
   "mimetype": "text/x-python",
   "name": "python",
   "nbconvert_exporter": "python",
   "pygments_lexer": "ipython3",
   "version": "3.10.8"
  },
  "orig_nbformat": 4,
  "vscode": {
   "interpreter": {
    "hash": "efe9372a1efa3f8f94af046a62a2012c6615b7b453923c0d7d1686f1c7792c16"
   }
  }
 },
 "nbformat": 4,
 "nbformat_minor": 2
}
