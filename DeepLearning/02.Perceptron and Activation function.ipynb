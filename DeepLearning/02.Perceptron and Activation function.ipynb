{
 "cells": [
  {
   "cell_type": "code",
   "execution_count": 21,
   "metadata": {},
   "outputs": [],
   "source": [
    "import numpy as np\n",
    "import matplotlib.pyplot as plt"
   ]
  },
  {
   "cell_type": "code",
   "execution_count": 22,
   "metadata": {},
   "outputs": [
    {
     "name": "stdout",
     "output_type": "stream",
     "text": [
      "0\n",
      "0\n",
      "0\n",
      "1\n"
     ]
    }
   ],
   "source": [
    "# Perceptron\n",
    "# use same function and adjust weight and bias get expected result\n",
    "\n",
    "#AND gate\n",
    "#when both input value is true, return result\n",
    "\n",
    "def AND(a, b):\n",
    "    input = np.array([a,b])\n",
    "    weight = np.array([0.4,0.4])\n",
    "    bias = -0.6\n",
    "\n",
    "    value = np.sum(input * weight) + bias\n",
    "\n",
    "    if value <= 0:\n",
    "        return 0\n",
    "    else:\n",
    "        return 1\n",
    "\n",
    "print(AND(0,0))\n",
    "print(AND(0,1))\n",
    "print(AND(1,0))\n",
    "print(AND(1,1))"
   ]
  },
  {
   "cell_type": "code",
   "execution_count": 23,
   "metadata": {},
   "outputs": [
    {
     "data": {
      "image/png": "[encoded data removed]",
      "text/plain": [
       "<Figure size 640x480 with 1 Axes>"
      ]
     },
     "metadata": {},
     "output_type": "display_data"
    }
   ],
   "source": [
    "x1 = np.arange(-2, 2, 0.01)\n",
    "x2 = np.arange(-2, 2, 0.01)\n",
    "bias = -0.6\n",
    "\n",
    "y = (-0.4*x1 - bias) / 0.4\n",
    "\n",
    "plt.plot(x1, y, 'r--')\n",
    "plt.scatter(0, 0, color='orange', marker='o', s=150)\n",
    "plt.scatter(0, 1, color='orange', marker='o', s=150)\n",
    "plt.scatter(1, 0, color='orange', marker='o', s=150)\n",
    "plt.scatter(1, 1, color='black', marker='^', s=150)\n",
    "plt.xlim(-0.5, 1.5)\n",
    "plt.ylim(-0.5, 1.5)\n",
    "plt.grid()\n",
    "\n",
    "plt.show()"
   ]
  },
  {
   "cell_type": "code",
   "execution_count": 24,
   "metadata": {},
   "outputs": [
    {
     "name": "stdout",
     "output_type": "stream",
     "text": [
      "0\n",
      "1\n",
      "1\n",
      "1\n"
     ]
    }
   ],
   "source": [
    "#OR gate\n",
    "#one of input value is true, return result\n",
    "\n",
    "def OR(a, b):\n",
    "    input = np.array([a,b])\n",
    "    weight = np.array([0.4,0.4])\n",
    "    bias = -0.3\n",
    "\n",
    "    value = np.sum(input * weight) + bias\n",
    "\n",
    "    if value <= 0:\n",
    "        return 0\n",
    "    else:\n",
    "        return 1\n",
    "\n",
    "print(OR(0,0))\n",
    "print(OR(0,1))\n",
    "print(OR(1,0))\n",
    "print(OR(1,1))"
   ]
  },
  {
   "cell_type": "code",
   "execution_count": 25,
   "metadata": {},
   "outputs": [
    {
     "name": "stdout",
     "output_type": "stream",
     "text": [
      "1\n",
      "1\n",
      "1\n",
      "0\n"
     ]
    }
   ],
   "source": [
    "#NAND gate\n",
    "#NOT AND gate\n",
    "\n",
    "def NAND(a, b):\n",
    "    input = np.array([a,b])\n",
    "    weight = np.array([-0.6,-0.6])\n",
    "    bias = 0.7\n",
    "\n",
    "    value = np.sum(input * weight) + bias\n",
    "\n",
    "    if value <= 0:\n",
    "        return 0\n",
    "    else:\n",
    "        return 1\n",
    "\n",
    "print(NAND(0,0))\n",
    "print(NAND(0,1))\n",
    "print(NAND(1,0))\n",
    "print(NAND(1,1))"
   ]
  },
  {
   "cell_type": "code",
   "execution_count": 26,
   "metadata": {},
   "outputs": [
    {
     "name": "stdout",
     "output_type": "stream",
     "text": [
      "0\n",
      "1\n",
      "1\n",
      "0\n"
     ]
    }
   ],
   "source": [
    "# XOR problem\n",
    "# return result when only one input is true. Can't solve adjusting weight and bias\n",
    "\n",
    "def XOR(a, b):\n",
    "    s1 = NAND(a,b)\n",
    "    s2 = OR(a,b)\n",
    "    y = AND(s1, s2)\n",
    "\n",
    "    return y\n",
    "# can solve using other gates\n",
    "\n",
    "print(XOR(0,0))\n",
    "print(XOR(0,1))\n",
    "print(XOR(1,0))\n",
    "print(XOR(1,1))"
   ]
  },
  {
   "cell_type": "code",
   "execution_count": 27,
   "metadata": {},
   "outputs": [
    {
     "name": "stdout",
     "output_type": "stream",
     "text": [
      "0\n",
      "1\n"
     ]
    }
   ],
   "source": [
    "# Activation function\n",
    "\n",
    "#Step function\n",
    "def step_function(x):\n",
    "    if x > 0:\n",
    "        return 1\n",
    "    else:\n",
    "        return 0\n",
    "\n",
    "print(step_function(-3))\n",
    "print(step_function(5))\n",
    "\n",
    "def step_function_numpy(x):\n",
    "    y = x > 0\n",
    "    value = y.astype(int)\n",
    "\n",
    "    return value"
   ]
  },
  {
   "cell_type": "code",
   "execution_count": 28,
   "metadata": {},
   "outputs": [
    {
     "name": "stdout",
     "output_type": "stream",
     "text": [
      "0.04742587317756678\n",
      "0.9933071490757153\n"
     ]
    }
   ],
   "source": [
    "#Sigmoid function\n",
    "#mainly use in binary classification\n",
    "\n",
    "def sigmoid(x):\n",
    "    value = 1 / (1 + np.exp(-x)) #np.exp(), exponential function e^x, e=2.718...\n",
    "    return value\n",
    "\n",
    "print(sigmoid(-3))\n",
    "print(sigmoid(5))"
   ]
  },
  {
   "cell_type": "code",
   "execution_count": 33,
   "metadata": {},
   "outputs": [
    {
     "data": {
      "image/png": "[encoded data removed]",
      "text/plain": [
       "<Figure size 640x480 with 1 Axes>"
      ]
     },
     "metadata": {},
     "output_type": "display_data"
    }
   ],
   "source": [
    "x = np.arange(-5, 5, 0.01)\n",
    "y1 = step_function_numpy(x)\n",
    "y2 = sigmoid(x)\n",
    "\n",
    "plt.plot(x, y1, 'b--', label='step function')\n",
    "plt.plot(x, y2, 'r-', label='sigmoid')\n",
    "plt.grid()\n",
    "plt.legend()\n",
    "\n",
    "plt.show()"
   ]
  },
  {
   "cell_type": "code",
   "execution_count": 34,
   "metadata": {},
   "outputs": [],
   "source": [
    "#ReLU\n",
    "#most widely used function\n",
    "\n",
    "def ReLU(x):\n",
    "    if x > 0:\n",
    "        return x\n",
    "    else:\n",
    "        return 0"
   ]
  },
  {
   "cell_type": "code",
   "execution_count": 35,
   "metadata": {},
   "outputs": [],
   "source": [
    "#Identity function\n",
    "\n",
    "def Iden(x):\n",
    "    return x"
   ]
  },
  {
   "cell_type": "code",
   "execution_count": 36,
   "metadata": {},
   "outputs": [],
   "source": [
    "#Softmax\n",
    "#mainly use in multi class classification\n",
    "\n",
    "def Softmax(x):\n",
    "    exp_x = np.exp(x)\n",
    "    sum_exp = np.sum(exp_x)\n",
    "    y = exp_x / sum_exp\n",
    "\n",
    "    return y"
   ]
  },
  {
   "cell_type": "code",
   "execution_count": 37,
   "metadata": {},
   "outputs": [
    {
     "name": "stdout",
     "output_type": "stream",
     "text": [
      "[0.05196378 0.04701878 0.77320716 0.12781028]\n",
      "1.0\n"
     ]
    }
   ],
   "source": [
    "x = np.array([0.3, 0.2, 3.0, 1.2])\n",
    "\n",
    "print(Softmax(x))\n",
    "print(np.sum(Softmax(x)))"
   ]
  },
  {
   "cell_type": "code",
   "execution_count": null,
   "metadata": {},
   "outputs": [],
   "source": []
  }
 ],
 "metadata": {
  "kernelspec": {
   "display_name": "Python 3.10.8 64-bit (microsoft store)",
   "language": "python",
   "name": "python3"
  },
  "language_info": {
   "codemirror_mode": {
    "name": "ipython",
    "version": 3
   },
   "file_extension": ".py",
   "mimetype": "text/x-python",
   "name": "python",
   "nbconvert_exporter": "python",
   "pygments_lexer": "ipython3",
   "version": "3.10.8"
  },
  "orig_nbformat": 4,
  "vscode": {
   "interpreter": {
    "hash": "efe9372a1efa3f8f94af046a62a2012c6615b7b453923c0d7d1686f1c7792c16"
   }
  }
 },
 "nbformat": 4,
 "nbformat_minor": 2
}
