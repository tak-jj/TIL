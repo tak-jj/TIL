{
 "cells": [
  {
   "cell_type": "markdown",
   "metadata": {},
   "source": [
    "# **Azure api, Optical Character Recognition, OCR**"
   ]
  },
  {
   "cell_type": "code",
   "execution_count": 13,
   "metadata": {},
   "outputs": [],
   "source": [
    "# Import packages\n",
    "import requests\n",
    "from PIL import Image, ImageDraw, ImageFont\n",
    "from io import BytesIO"
   ]
  },
  {
   "cell_type": "code",
   "execution_count": 14,
   "metadata": {},
   "outputs": [],
   "source": [
    "# Key and endpoint for api use\n",
    "\n",
    "sub_key = 'key value'\n",
    "endpoint = 'endpoint' + '/vision/v2.0/ocr'"
   ]
  },
  {
   "cell_type": "code",
   "execution_count": 15,
   "metadata": {},
   "outputs": [
    {
     "data": {
      "image/png": "[encoded data removed]",
      "text/plain": [
       "<PIL.PngImagePlugin.PngImageFile image mode=P size=500x250>"
      ]
     },
     "execution_count": 15,
     "metadata": {},
     "output_type": "execute_result"
    }
   ],
   "source": [
    "# Prepare image\n",
    "\n",
    "image_url = 'https://929687.smushcdn.com/2633864/wp-content/uploads/2017/06/example_01.png?lossy=1&strip=1&webp=1'\n",
    "image = Image.open(BytesIO(requests.get(image_url).content))\n",
    "\n",
    "image"
   ]
  },
  {
   "cell_type": "code",
   "execution_count": 16,
   "metadata": {},
   "outputs": [],
   "source": [
    "# Set headers\n",
    "headers = {'Ocp-Apim-Subscription-Key':sub_key}\n",
    "params = {'language':'unk', 'detectOrientation':'true'}\n",
    "data = {'url':image_url}"
   ]
  },
  {
   "cell_type": "code",
   "execution_count": 17,
   "metadata": {},
   "outputs": [
    {
     "data": {
      "text/plain": [
       "{'language': 'en',\n",
       " 'textAngle': 0.026179938779915528,\n",
       " 'orientation': 'Up',\n",
       " 'regions': [{'boundingBox': '36,26,426,199',\n",
       "   'lines': [{'boundingBox': '78,26,344,72',\n",
       "     'words': [{'boundingBox': '78,26,164,67', 'text': 'Noisy'},\n",
       "      {'boundingBox': '251,30,171,68', 'text': 'image'}]},\n",
       "    {'boundingBox': '166,103,167,49',\n",
       "     'words': [{'boundingBox': '166,103,53,46', 'text': 'to'},\n",
       "      {'boundingBox': '235,105,98,47', 'text': 'test'}]},\n",
       "    {'boundingBox': '36,165,426,60',\n",
       "     'words': [{'boundingBox': '36,165,259,56', 'text': 'Tesseract'},\n",
       "      {'boundingBox': '310,172,152,53', 'text': 'OCR'}]}]}]}"
      ]
     },
     "execution_count": 17,
     "metadata": {},
     "output_type": "execute_result"
    }
   ],
   "source": [
    "# Get detected data use api\n",
    "response = requests.post(endpoint, headers=headers, params=params, json=data)\n",
    "result = response.json()\n",
    "\n",
    "result"
   ]
  },
  {
   "cell_type": "code",
   "execution_count": 18,
   "metadata": {},
   "outputs": [
    {
     "name": "stdout",
     "output_type": "stream",
     "text": [
      "Noisy\n",
      "image\n",
      "to\n",
      "test\n",
      "Tesseract\n",
      "OCR\n"
     ]
    }
   ],
   "source": [
    "# Get words from JSON\n",
    "def getWords(result):\n",
    "  for line in result['regions'][0]['lines']:\n",
    "    words = line['words']\n",
    "\n",
    "    for word in words:\n",
    "      text = word['text']\n",
    "      print(text)\n",
    "\n",
    "getWords(result)"
   ]
  },
  {
   "cell_type": "code",
   "execution_count": 19,
   "metadata": {},
   "outputs": [
    {
     "data": {
      "image/png": "[encoded data removed]",
      "text/plain": [
       "<PIL.PngImagePlugin.PngImageFile image mode=1 size=1050x147>"
      ]
     },
     "execution_count": 19,
     "metadata": {},
     "output_type": "execute_result"
    }
   ],
   "source": [
    "# Test Korean image\n",
    "\n",
    "image_url = 'https://how-ocr-works.com/languages/korean-alphabet/korean-text.png'\n",
    "image = Image.open(BytesIO(requests.get(image_url).content))\n",
    "\n",
    "image"
   ]
  },
  {
   "cell_type": "code",
   "execution_count": 20,
   "metadata": {},
   "outputs": [],
   "source": [
    "headers = {'Ocp-Apim-Subscription-Key':sub_key}\n",
    "params = {'language':'ko', 'detectOrientation':'true'}\n",
    "data = {'url':image_url}"
   ]
  },
  {
   "cell_type": "code",
   "execution_count": 21,
   "metadata": {},
   "outputs": [
    {
     "data": {
      "text/plain": [
       "{'language': 'ko',\n",
       " 'textAngle': 0.0,\n",
       " 'orientation': 'Up',\n",
       " 'regions': [{'boundingBox': '1,1,1048,145',\n",
       "   'lines': [{'boundingBox': '4,1,1045,36',\n",
       "     'words': [{'boundingBox': '4,2,212,35', 'text': '이니]이아스가'},\n",
       "      {'boundingBox': '247,1,98,35', 'text': '이곳에'},\n",
       "      {'boundingBox': '372,4,34,32', 'text': '온'},\n",
       "      {'boundingBox': '428,2,105,34', 'text': '이유를'},\n",
       "      {'boundingBox': '563,2,115,35', 'text': '물었고,'},\n",
       "      {'boundingBox': '708,10,34,21', 'text': '그'},\n",
       "      {'boundingBox': '763,3,63,34', 'text': '밖에'},\n",
       "      {'boundingBox': '856,3,66,34', 'text': '많은'},\n",
       "      {'boundingBox': '943,3,106,34', 'text': '질문을'}]},\n",
       "    {'boundingBox': '1,56,612,37',\n",
       "     'words': [{'boundingBox': '1,56,151,37', 'text': '퍼부었다.'},\n",
       "      {'boundingBox': '181,56,108,36', 'text': '그러나'},\n",
       "      {'boundingBox': '318,57,135,34', 'text': '그리스의'},\n",
       "      {'boundingBox': '483,58,130,33', 'text': '망령들。'}]},\n",
       "    {'boundingBox': '654,56,388,36',\n",
       "     'words': [{'boundingBox': '654,57,106,34', 'text': '어두운'},\n",
       "      {'boundingBox': '791,57,61,34', 'text': '대기'},\n",
       "      {'boundingBox': '880,56,63,35', 'text': '속에'},\n",
       "      {'boundingBox': '979,59,63,33', 'text': '번찍'}]},\n",
       "    {'boundingBox': '3,110,1041,36',\n",
       "     'words': [{'boundingBox': '3,111,68,35', 'text': '이는'},\n",
       "      {'boundingBox': '93,110,105,35', 'text': '갑옷을'},\n",
       "      {'boundingBox': '218,116,70,26', 'text': '보고'},\n",
       "      {'boundingBox': '301,110,100,36', 'text': '그것이'},\n",
       "      {'boundingBox': '424,110,248,36', 'text': '아이네이아스인'},\n",
       "      {'boundingBox': '695,111,70,33', 'text': '줄을'},\n",
       "      {'boundingBox': '788,111,76,34', 'text': '알자,'},\n",
       "      {'boundingBox': '893,111,99,34', 'text': '공포에'},\n",
       "      {'boundingBox': '1015,112,29,34', 'text': '떨'}]}]}]}"
      ]
     },
     "execution_count": 21,
     "metadata": {},
     "output_type": "execute_result"
    }
   ],
   "source": [
    "response = requests.post(endpoint, headers=headers, params=params, json=data)\n",
    "result = response.json()\n",
    "result"
   ]
  },
  {
   "cell_type": "code",
   "execution_count": 22,
   "metadata": {},
   "outputs": [
    {
     "name": "stdout",
     "output_type": "stream",
     "text": [
      "이니]이아스가\n",
      "이곳에\n",
      "온\n",
      "이유를\n",
      "물었고,\n",
      "그\n",
      "밖에\n",
      "많은\n",
      "질문을\n",
      "퍼부었다.\n",
      "그러나\n",
      "그리스의\n",
      "망령들。\n",
      "어두운\n",
      "대기\n",
      "속에\n",
      "번찍\n",
      "이는\n",
      "갑옷을\n",
      "보고\n",
      "그것이\n",
      "아이네이아스인\n",
      "줄을\n",
      "알자,\n",
      "공포에\n",
      "떨\n"
     ]
    }
   ],
   "source": [
    "getWords(result)"
   ]
  }
 ],
 "metadata": {
  "kernelspec": {
   "display_name": "Python 3.10.8 64-bit (microsoft store)",
   "language": "python",
   "name": "python3"
  },
  "language_info": {
   "codemirror_mode": {
    "name": "ipython",
    "version": 3
   },
   "file_extension": ".py",
   "mimetype": "text/x-python",
   "name": "python",
   "nbconvert_exporter": "python",
   "pygments_lexer": "ipython3",
   "version": "3.10.8"
  },
  "orig_nbformat": 4,
  "vscode": {
   "interpreter": {
    "hash": "efe9372a1efa3f8f94af046a62a2012c6615b7b453923c0d7d1686f1c7792c16"
   }
  }
 },
 "nbformat": 4,
 "nbformat_minor": 2
}
